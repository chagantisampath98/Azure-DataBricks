{
 "cells": [
  {
   "cell_type": "code",
   "execution_count": 0,
   "metadata": {
    "application/vnd.databricks.v1+cell": {
     "cellMetadata": {
      "byteLimit": 2048000,
      "rowLimit": 10000
     },
     "inputWidgets": {},
     "nuid": "44d80404-65b8-496b-8d07-a59643817de6",
     "showTitle": false,
     "title": ""
    }
   },
   "outputs": [],
   "source": [
    "from pyspark.sql import SparkSession\n",
    "from pyspark.sql.functions import *\n",
    "#from pyspark.sql.types import IntegerType\n",
    "\n",
    "spark = SparkSession.builder.appName(\"uinionsSQL\").getOrCreate()"
   ]
  },
  {
   "cell_type": "code",
   "execution_count": 0,
   "metadata": {
    "application/vnd.databricks.v1+cell": {
     "cellMetadata": {
      "byteLimit": 2048000,
      "rowLimit": 10000
     },
     "inputWidgets": {},
     "nuid": "c0ba77be-611f-461e-98bc-26606cdee35e",
     "showTitle": false,
     "title": ""
    }
   },
   "outputs": [],
   "source": [
    "df2 = spark.read.option(\"inferSchema\",True).csv(\"/FileStore/tables/F1_driver_bio2.csv\",header=True)\n",
    "\n",
    "df1 = spark.read.option(\"inferSchema\",True).csv(\"/FileStore/tables/F1_driver_bio-1.csv\",header=True)"
   ]
  },
  {
   "cell_type": "code",
   "execution_count": 0,
   "metadata": {
    "application/vnd.databricks.v1+cell": {
     "cellMetadata": {
      "byteLimit": 2048000,
      "rowLimit": 10000
     },
     "inputWidgets": {},
     "nuid": "373f29ec-91b7-4d0b-a698-e8b46cb89e2d",
     "showTitle": false,
     "title": ""
    }
   },
   "outputs": [
    {
     "output_type": "stream",
     "name": "stdout",
     "output_type": "stream",
     "text": [
      "+---------------+------------+---+---------------+--------------+-------------+-------------------+\n|         Driver|Abbreviation| No|           Team|       Country|Date of Birth|     Place of Birth|\n+---------------+------------+---+---------------+--------------+-------------+-------------------+\n| Max Verstappen|         VER|  1|Red Bull Racing|   Netherlands|   1997-09-30|   Hasselt, Belgium|\n|   Sergio Perez|         PER| 11|Red Bull Racing|        Mexico|   1990-01-26|Guadalajara, Mexico|\n| Lewis Hamilton|         HAM| 44|       Mercedes|United Kingdom|   1985-01-07| Stevenage, England|\n|Fernando Alonso|         ALO| 14|   Aston Martin|         Spain|   1981-07-29|      Oviedo, Spain|\n|Charles Leclerc|         LEC| 16|        Ferrari|        Monaco|   1997-10-16|Monte Carlo, Monaco|\n+---------------+------------+---+---------------+--------------+-------------+-------------------+\nonly showing top 5 rows\n\n+---------------+------------+---+---------------+--------------+-------------+-------------------+\n|         Driver|Abbreviation| No|           Team|       Country|Date of Birth|     Place of Birth|\n+---------------+------------+---+---------------+--------------+-------------+-------------------+\n| Max Verstappen|         VER|  1|Red Bull Racing|   Netherlands|   1997-09-30|   Hasselt, Belgium|\n|   Sergio Perez|         PER| 11|Red Bull Racing|        Mexico|   1990-01-26|Guadalajara, Mexico|\n| Lewis Hamilton|         HAM| 44|       Mercedes|United Kingdom|   1985-01-07| Stevenage, England|\n|Fernando Alonso|         ALO| 14|   Aston Martin|         Spain|   1981-07-29|      Oviedo, Spain|\n|Charles Leclerc|         LEC| 16|        Ferrari|        Monaco|   1997-10-16|Monte Carlo, Monaco|\n+---------------+------------+---+---------------+--------------+-------------+-------------------+\nonly showing top 5 rows\n\n"
     ]
    }
   ],
   "source": [
    "df1.show(5)\n",
    "df2.show(5)"
   ]
  },
  {
   "cell_type": "code",
   "execution_count": 0,
   "metadata": {
    "application/vnd.databricks.v1+cell": {
     "cellMetadata": {
      "byteLimit": 2048000,
      "rowLimit": 10000
     },
     "inputWidgets": {},
     "nuid": "9b361251-bad7-4c4f-89c7-431abdc95784",
     "showTitle": false,
     "title": ""
    }
   },
   "outputs": [
    {
     "output_type": "stream",
     "name": "stdout",
     "output_type": "stream",
     "text": [
      "+----------------+------------+----+---------------+--------------+-------------+--------------------+\n|          Driver|Abbreviation|  No|           Team|       Country|Date of Birth|      Place of Birth|\n+----------------+------------+----+---------------+--------------+-------------+--------------------+\n|  Max Verstappen|         VER|   1|Red Bull Racing|   Netherlands|   1997-09-30|    Hasselt, Belgium|\n|    Sergio Perez|         PER|  11|Red Bull Racing|        Mexico|   1990-01-26| Guadalajara, Mexico|\n|  Lewis Hamilton|         HAM|  44|       Mercedes|United Kingdom|   1985-01-07|  Stevenage, England|\n| Fernando Alonso|         ALO|  14|   Aston Martin|         Spain|   1981-07-29|       Oviedo, Spain|\n| Charles Leclerc|         LEC|  16|        Ferrari|        Monaco|   1997-10-16| Monte Carlo, Monaco|\n|    Lando Norris|         NOR|   4|        McLaren|United Kingdom|   1999-11-13|    Bristol, England|\n|    Carlos Sainz|         SAI|  55|        Ferrari|         Sapin|   1994-09-01|       Madrid, Spain|\n|  George Russell|         RUS|  63|       Mercedes|United Kingdom|   1998-02-15|King's Lynn, England|\n|   Oscar Piastri|         PIA|  81|        McLaren|     Australia|   2001-04-06| Melbourne, Victoria|\n|    Lance Stroll|         STR|  18|   Aston Martin|        Canada|   1998-10-29|    Montreal, Canada|\n|    Pierre Gasly|         GAS|  10|         Alpine|        France|   1996-02-07|       Rouen, France|\n|    Esteban Ocon|         OCO|  31|         Alpine|        France|   1996-09-17|    Evreux, Normandy|\n| Alexander Albon|         ALB|  23|       Williams|      Thailand|   1996-03-23|     London, England|\n|    Yuki Tsunoda|         TSU|  22|     AlphaTauri|         Japan|   2000-05-11|   Sagamihara, Japan|\n| Valtteri Bottas|         BOT|  77|     Alfa Romeo|       Finland|   1989-08-28|    Nastola, Finland|\n| Nico Hulkenberg|         HUL|  27|   Haas F1 Team|       Germany|   1987-08-19|Emmerich am Rhein...|\n|Daniel Ricciardo|         RIC|   3|     AlphaTauri|     Australia|   1989-07-01|    Perth, Australia|\n|     Guanyu Zhou|         ZHO|  24|     Alfa Romeo|         China|   1999-05-30|     Shanghai, China|\n| Kevin Magnussen|         MAG|  20|   Haas F1 Team|       Denmark|   1992-10-05|   Roskilde, Denmark|\n|     Liam Lawson|         LAW|  40|     AlphaTauri|   New Zealand|   2002-02-11|Hastings, New Zea...|\n|  Logan Sargeant|         SAR|   2|       Williams| United States|   2000-12-31|Fort Lauderdale, ...|\n|            null|        null|null|           null|          null|         null|                null|\n|  Max Verstappen|         VER|   1|Red Bull Racing|   Netherlands|   1997-09-30|    Hasselt, Belgium|\n|    Sergio Perez|         PER|  11|Red Bull Racing|        Mexico|   1990-01-26| Guadalajara, Mexico|\n|  Lewis Hamilton|         HAM|  44|       Mercedes|United Kingdom|   1985-01-07|  Stevenage, England|\n| Fernando Alonso|         ALO|  14|   Aston Martin|         Spain|   1981-07-29|       Oviedo, Spain|\n| Charles Leclerc|         LEC|  16|        Ferrari|        Monaco|   1997-10-16| Monte Carlo, Monaco|\n|    Lando Norris|         NOR|   4|        McLaren|United Kingdom|   1999-11-13|    Bristol, England|\n|    Carlos Sainz|         SAI|  55|        Ferrari|         Sapin|   1994-09-01|       Madrid, Spain|\n|  George Russell|         RUS|  63|       Mercedes|United Kingdom|   1998-02-15|King's Lynn, England|\n+----------------+------------+----+---------------+--------------+-------------+--------------------+\nonly showing top 30 rows\n\n"
     ]
    }
   ],
   "source": [
    "union_df = df1.union(df2)\n",
    "union_df.show(30)"
   ]
  },
  {
   "cell_type": "code",
   "execution_count": 0,
   "metadata": {
    "application/vnd.databricks.v1+cell": {
     "cellMetadata": {
      "byteLimit": 2048000,
      "rowLimit": 10000
     },
     "inputWidgets": {},
     "nuid": "1ce15cfd-5a34-4aac-97bc-95c83884cff9",
     "showTitle": false,
     "title": ""
    }
   },
   "outputs": [
    {
     "output_type": "stream",
     "name": "stdout",
     "output_type": "stream",
     "text": [
      "+----------------+------------+----+---------------+--------------+-------------+--------------------+\n|          Driver|Abbreviation|  No|           Team|       Country|Date of Birth|      Place of Birth|\n+----------------+------------+----+---------------+--------------+-------------+--------------------+\n|  Max Verstappen|         VER|   1|Red Bull Racing|   Netherlands|   1997-09-30|    Hasselt, Belgium|\n|    Sergio Perez|         PER|  11|Red Bull Racing|        Mexico|   1990-01-26| Guadalajara, Mexico|\n|  Lewis Hamilton|         HAM|  44|       Mercedes|United Kingdom|   1985-01-07|  Stevenage, England|\n| Fernando Alonso|         ALO|  14|   Aston Martin|         Spain|   1981-07-29|       Oviedo, Spain|\n| Charles Leclerc|         LEC|  16|        Ferrari|        Monaco|   1997-10-16| Monte Carlo, Monaco|\n|    Lando Norris|         NOR|   4|        McLaren|United Kingdom|   1999-11-13|    Bristol, England|\n|    Carlos Sainz|         SAI|  55|        Ferrari|         Sapin|   1994-09-01|       Madrid, Spain|\n|  George Russell|         RUS|  63|       Mercedes|United Kingdom|   1998-02-15|King's Lynn, England|\n|   Oscar Piastri|         PIA|  81|        McLaren|     Australia|   2001-04-06| Melbourne, Victoria|\n|    Lance Stroll|         STR|  18|   Aston Martin|        Canada|   1998-10-29|    Montreal, Canada|\n|    Pierre Gasly|         GAS|  10|         Alpine|        France|   1996-02-07|       Rouen, France|\n|    Esteban Ocon|         OCO|  31|         Alpine|        France|   1996-09-17|    Evreux, Normandy|\n| Alexander Albon|         ALB|  23|       Williams|      Thailand|   1996-03-23|     London, England|\n|    Yuki Tsunoda|         TSU|  22|     AlphaTauri|         Japan|   2000-05-11|   Sagamihara, Japan|\n| Valtteri Bottas|         BOT|  77|     Alfa Romeo|       Finland|   1989-08-28|    Nastola, Finland|\n| Nico Hulkenberg|         HUL|  27|   Haas F1 Team|       Germany|   1987-08-19|Emmerich am Rhein...|\n|Daniel Ricciardo|         RIC|   3|     AlphaTauri|     Australia|   1989-07-01|    Perth, Australia|\n|     Guanyu Zhou|         ZHO|  24|     Alfa Romeo|         China|   1999-05-30|     Shanghai, China|\n| Kevin Magnussen|         MAG|  20|   Haas F1 Team|       Denmark|   1992-10-05|   Roskilde, Denmark|\n|     Liam Lawson|         LAW|  40|     AlphaTauri|   New Zealand|   2002-02-11|Hastings, New Zea...|\n|  Logan Sargeant|         SAR|   2|       Williams| United States|   2000-12-31|Fort Lauderdale, ...|\n|            null|        null|null|           null|          null|         null|                null|\n|  Max Verstappen|         VER|   1|Red Bull Racing|   Netherlands|   1997-09-30|    Hasselt, Belgium|\n|    Sergio Perez|         PER|  11|Red Bull Racing|        Mexico|   1990-01-26| Guadalajara, Mexico|\n|  Lewis Hamilton|         HAM|  44|       Mercedes|United Kingdom|   1985-01-07|  Stevenage, England|\n| Fernando Alonso|         ALO|  14|   Aston Martin|         Spain|   1981-07-29|       Oviedo, Spain|\n| Charles Leclerc|         LEC|  16|        Ferrari|        Monaco|   1997-10-16| Monte Carlo, Monaco|\n|    Lando Norris|         NOR|   4|        McLaren|United Kingdom|   1999-11-13|    Bristol, England|\n|    Carlos Sainz|         SAI|  55|        Ferrari|         Sapin|   1994-09-01|       Madrid, Spain|\n|  George Russell|         RUS|  63|       Mercedes|United Kingdom|   1998-02-15|King's Lynn, England|\n+----------------+------------+----+---------------+--------------+-------------+--------------------+\nonly showing top 30 rows\n\n"
     ]
    }
   ],
   "source": [
    "unionall_df = df1.unionAll(df2)\n",
    "unionall_df.show(30)"
   ]
  },
  {
   "cell_type": "code",
   "execution_count": 0,
   "metadata": {
    "application/vnd.databricks.v1+cell": {
     "cellMetadata": {},
     "inputWidgets": {},
     "nuid": "da4674fd-dcc2-4e4b-8318-ec620eaff02e",
     "showTitle": false,
     "title": ""
    }
   },
   "outputs": [],
   "source": []
  }
 ],
 "metadata": {
  "application/vnd.databricks.v1+notebook": {
   "dashboards": [],
   "language": "python",
   "notebookMetadata": {
    "pythonIndentUnit": 4
   },
   "notebookName": "unionsSQL",
   "widgets": {}
  }
 },
 "nbformat": 4,
 "nbformat_minor": 0
}
