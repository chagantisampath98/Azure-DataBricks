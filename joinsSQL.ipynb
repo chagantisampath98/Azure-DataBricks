{
 "cells": [
  {
   "cell_type": "code",
   "execution_count": 0,
   "metadata": {
    "application/vnd.databricks.v1+cell": {
     "cellMetadata": {
      "byteLimit": 2048000,
      "rowLimit": 10000
     },
     "inputWidgets": {},
     "nuid": "2171b07f-7954-405d-818b-0c19f256658d",
     "showTitle": false,
     "title": ""
    }
   },
   "outputs": [],
   "source": [
    "from pyspark.sql import SparkSession\n",
    "from pyspark.sql.functions import *\n",
    "#from pyspark.sql.types import IntegerType\n",
    "\n",
    "spark = SparkSession.builder.appName(\"joinsSQL\").getOrCreate()"
   ]
  },
  {
   "cell_type": "code",
   "execution_count": 0,
   "metadata": {
    "application/vnd.databricks.v1+cell": {
     "cellMetadata": {
      "byteLimit": 2048000,
      "rowLimit": 10000
     },
     "inputWidgets": {},
     "nuid": "c737c9e9-1026-4242-9d35-c692c1cb56df",
     "showTitle": false,
     "title": ""
    }
   },
   "outputs": [],
   "source": [
    "driver_racedata_df = spark.read.option(\"inferSchema\",True).csv(\"/FileStore/tables/F1_driver_racedata.csv\",header=True)\n",
    "\n",
    "driver_bio_df = spark.read.option(\"inferSchema\",True).csv(\"/FileStore/tables/F1_driver_bio.csv\",header=True)"
   ]
  },
  {
   "cell_type": "code",
   "execution_count": 0,
   "metadata": {
    "application/vnd.databricks.v1+cell": {
     "cellMetadata": {
      "byteLimit": 2048000,
      "rowLimit": 10000
     },
     "inputWidgets": {},
     "nuid": "9916793d-5bb8-4145-b6e7-94f7ad32d415",
     "showTitle": false,
     "title": ""
    }
   },
   "outputs": [
    {
     "output_type": "stream",
     "name": "stdout",
     "output_type": "stream",
     "text": [
      "+---+------------+---------------+-------+------+-------------------+-------------------+---------------------+\n| No|       Track|      1st Place|Podiums|Points|Grands Prix Entered|World Championships|Highest Grid Position|\n+---+------------+---------------+-------+------+-------------------+-------------------+---------------------+\n|  1|     Bahrain| Max Verstappen|     98|2586.5|                185|                  3|                    1|\n| 11|Saudi Arabia|   Sergio Perez|     35|  1486|                258|                  0|                    1|\n| 44|   Australia| Lewis Hamilton|    197|4639.5|                332|                  7|                    1|\n| 14|  Azerbaijan|Fernando Alonso|    106|  2267|                380|                  2|                    1|\n| 16|       Miami|Charles Leclerc|     30|  1074|                125|                  0|                    1|\n+---+------------+---------------+-------+------+-------------------+-------------------+---------------------+\nonly showing top 5 rows\n\n+---------------+------------+---+---------------+--------------+-------------+-------------------+\n|         Driver|Abbreviation| No|           Team|       Country|Date of Birth|     Place of Birth|\n+---------------+------------+---+---------------+--------------+-------------+-------------------+\n| Max Verstappen|         VER|  1|Red Bull Racing|   Netherlands|   30/09/1997|   Hasselt, Belgium|\n|   Sergio Perez|         PER| 11|Red Bull Racing|        Mexico|   26/01/1990|Guadalajara, Mexico|\n| Lewis Hamilton|         HAM| 44|       Mercedes|United Kingdom|     7/1/1985| Stevenage, England|\n|Fernando Alonso|         ALO| 14|   Aston Martin|         Spain|   29/07/1981|      Oviedo, Spain|\n|Charles Leclerc|         LEC| 16|        Ferrari|        Monaco|   16/10/1997|Monte Carlo, Monaco|\n+---------------+------------+---+---------------+--------------+-------------+-------------------+\nonly showing top 5 rows\n\n"
     ]
    }
   ],
   "source": [
    "driver_racedata_df.show(5)\n",
    "driver_bio_df.show(5)"
   ]
  },
  {
   "cell_type": "code",
   "execution_count": 0,
   "metadata": {
    "application/vnd.databricks.v1+cell": {
     "cellMetadata": {},
     "inputWidgets": {},
     "nuid": "94c75a6f-8ecd-4755-9be6-52609a82ad6f",
     "showTitle": false,
     "title": ""
    }
   },
   "outputs": [],
   "source": []
  }
 ],
 "metadata": {
  "application/vnd.databricks.v1+notebook": {
   "dashboards": [],
   "language": "python",
   "notebookMetadata": {
    "pythonIndentUnit": 4
   },
   "notebookName": "joinsSQL",
   "widgets": {}
  }
 },
 "nbformat": 4,
 "nbformat_minor": 0
}
