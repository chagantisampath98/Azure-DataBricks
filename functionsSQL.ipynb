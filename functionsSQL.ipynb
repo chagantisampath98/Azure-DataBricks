{
 "cells": [
  {
   "cell_type": "code",
   "execution_count": 0,
   "metadata": {
    "application/vnd.databricks.v1+cell": {
     "cellMetadata": {
      "byteLimit": 2048000,
      "rowLimit": 10000
     },
     "inputWidgets": {},
     "nuid": "1efcd55c-dc87-49a4-8a85-5c57e5da6482",
     "showTitle": false,
     "title": ""
    }
   },
   "outputs": [],
   "source": [
    "from pyspark.sql import SparkSession\n",
    "from pyspark.sql.functions import *\n",
    "from pyspark.sql.types import IntegerType\n",
    "\n",
    "spark = SparkSession.builder.appName(\"functionsSQL\").getOrCreate()"
   ]
  },
  {
   "cell_type": "code",
   "execution_count": 0,
   "metadata": {
    "application/vnd.databricks.v1+cell": {
     "cellMetadata": {
      "byteLimit": 2048000,
      "rowLimit": 10000
     },
     "inputWidgets": {},
     "nuid": "239b1223-3f97-4af1-bf80-010ea0b1069b",
     "showTitle": false,
     "title": ""
    }
   },
   "outputs": [
    {
     "output_type": "stream",
     "name": "stdout",
     "output_type": "stream",
     "text": [
      "+-----------+--------+------+--------------------+------+----+-----+-----+----------------+-------+-----+--------+\n|PassengerId|Survived|Pclass|                Name|   Sex| Age|SibSp|Parch|          Ticket|   Fare|Cabin|Embarked|\n+-----------+--------+------+--------------------+------+----+-----+-----+----------------+-------+-----+--------+\n|          1|       0|     3|Braund, Mr. Owen ...|  male|22.0|    1|    0|       A/5 21171|   7.25| null|       S|\n|          2|       1|     1|Cumings, Mrs. Joh...|female|38.0|    1|    0|        PC 17599|71.2833|  C85|       C|\n|          3|       1|     3|Heikkinen, Miss. ...|female|26.0|    0|    0|STON/O2. 3101282|  7.925| null|       S|\n|          4|       1|     1|Futrelle, Mrs. Ja...|female|35.0|    1|    0|          113803|   53.1| C123|       S|\n|          5|       0|     3|Allen, Mr. Willia...|  male|35.0|    0|    0|          373450|   8.05| null|       S|\n+-----------+--------+------+--------------------+------+----+-----+-----+----------------+-------+-----+--------+\nonly showing top 5 rows\n\n"
     ]
    }
   ],
   "source": [
    "parquet_df = spark.read.parquet(\"/FileStore/tables/Titanic.parquet\")\n",
    "parquet_df.show(5)\n",
    "\n",
    "parquet_df.createOrReplaceTempView(\"titanic_table\")"
   ]
  },
  {
   "cell_type": "code",
   "execution_count": 0,
   "metadata": {
    "application/vnd.databricks.v1+cell": {
     "cellMetadata": {},
     "inputWidgets": {},
     "nuid": "66d484aa-560d-439c-ab98-2ee7d4e3a543",
     "showTitle": false,
     "title": ""
    }
   },
   "outputs": [],
   "source": [
    "#sql tranformations:\n",
    "#functions: string function = upper, lower, substr, concat\n",
    "# arthematic functions: +, -, *, /, %, ceil, round, floor\n",
    "# date functions: dd-mm-yyy to yyy-mm-dd\n",
    "#"
   ]
  },
  {
   "cell_type": "code",
   "execution_count": 0,
   "metadata": {
    "application/vnd.databricks.v1+cell": {
     "cellMetadata": {
      "byteLimit": 2048000,
      "rowLimit": 10000
     },
     "inputWidgets": {},
     "nuid": "4fb4b0cf-2e82-4765-aed8-d9c30a31ac6c",
     "showTitle": false,
     "title": ""
    }
   },
   "outputs": [
    {
     "output_type": "stream",
     "name": "stdout",
     "output_type": "stream",
     "text": [
      "+--------------------+--------------------+\n|                Name|           upperName|\n+--------------------+--------------------+\n|Braund, Mr. Owen ...|BRAUND, MR. OWEN ...|\n|Cumings, Mrs. Joh...|CUMINGS, MRS. JOH...|\n|Heikkinen, Miss. ...|HEIKKINEN, MISS. ...|\n|Futrelle, Mrs. Ja...|FUTRELLE, MRS. JA...|\n|Allen, Mr. Willia...|ALLEN, MR. WILLIA...|\n+--------------------+--------------------+\nonly showing top 5 rows\n\n+--------------------+--------------------+\n|                Name|           upperName|\n+--------------------+--------------------+\n|Braund, Mr. Owen ...|BRAUND, MR. OWEN ...|\n|Cumings, Mrs. Joh...|CUMINGS, MRS. JOH...|\n|Heikkinen, Miss. ...|HEIKKINEN, MISS. ...|\n|Futrelle, Mrs. Ja...|FUTRELLE, MRS. JA...|\n|Allen, Mr. Willia...|ALLEN, MR. WILLIA...|\n+--------------------+--------------------+\nonly showing top 5 rows\n\n"
     ]
    }
   ],
   "source": [
    "#aritmetic functions\n",
    "# using sql\n",
    "spark.sql(\"select Name, upper(Name) upperName from titanic_table\").show(5)\n",
    "#using dataframe\n",
    "parquet_df.withColumn(\"upperName\",upper(col(\"Name\"))).select(\"Name\",\"upperName\").show(5)"
   ]
  },
  {
   "cell_type": "code",
   "execution_count": 0,
   "metadata": {
    "application/vnd.databricks.v1+cell": {
     "cellMetadata": {
      "byteLimit": 2048000,
      "rowLimit": 10000
     },
     "inputWidgets": {},
     "nuid": "cdf0c596-eb97-456b-8f45-827dbb760051",
     "showTitle": false,
     "title": ""
    }
   },
   "outputs": [
    {
     "output_type": "stream",
     "name": "stdout",
     "output_type": "stream",
     "text": [
      "+--------------------+--------------------+\n|                Name|           lowerName|\n+--------------------+--------------------+\n|Braund, Mr. Owen ...|braund, mr. owen ...|\n|Cumings, Mrs. Joh...|cumings, mrs. joh...|\n|Heikkinen, Miss. ...|heikkinen, miss. ...|\n|Futrelle, Mrs. Ja...|futrelle, mrs. ja...|\n|Allen, Mr. Willia...|allen, mr. willia...|\n+--------------------+--------------------+\nonly showing top 5 rows\n\n+--------------------+--------------------+\n|                Name|           lowerName|\n+--------------------+--------------------+\n|Braund, Mr. Owen ...|braund, mr. owen ...|\n|Cumings, Mrs. Joh...|cumings, mrs. joh...|\n|Heikkinen, Miss. ...|heikkinen, miss. ...|\n|Futrelle, Mrs. Ja...|futrelle, mrs. ja...|\n|Allen, Mr. Willia...|allen, mr. willia...|\n+--------------------+--------------------+\nonly showing top 5 rows\n\n"
     ]
    }
   ],
   "source": [
    "# using sql\n",
    "spark.sql(\"select Name, lower(Name) lowerName from titanic_table\").show(5)\n",
    "#using dataframe\n",
    "parquet_df.withColumn(\"lowerName\",lower(col(\"Name\"))).select(\"Name\",\"lowerName\").show(5)"
   ]
  },
  {
   "cell_type": "code",
   "execution_count": 0,
   "metadata": {
    "application/vnd.databricks.v1+cell": {
     "cellMetadata": {
      "byteLimit": 2048000,
      "rowLimit": 10000
     },
     "inputWidgets": {},
     "nuid": "2366f354-6c67-4bb8-b68a-276eeb20cd9a",
     "showTitle": false,
     "title": ""
    }
   },
   "outputs": [
    {
     "output_type": "stream",
     "name": "stdout",
     "output_type": "stream",
     "text": [
      "+-----------+--------+------+--------------------+------+----+-----+-----+----------------+-------+-----+--------+--------------------+\n|PassengerId|Survived|Pclass|                Name|   Sex| Age|SibSp|Parch|          Ticket|   Fare|Cabin|Embarked|        CombinedName|\n+-----------+--------+------+--------------------+------+----+-----+-----+----------------+-------+-----+--------+--------------------+\n|          1|       0|     3|Braund, Mr. Owen ...|  male|22.0|    1|    0|       A/5 21171|   7.25| null|       S|male=Braund, Mr. ...|\n|          2|       1|     1|Cumings, Mrs. Joh...|female|38.0|    1|    0|        PC 17599|71.2833|  C85|       C|female=Cumings, M...|\n|          3|       1|     3|Heikkinen, Miss. ...|female|26.0|    0|    0|STON/O2. 3101282|  7.925| null|       S|female=Heikkinen,...|\n|          4|       1|     1|Futrelle, Mrs. Ja...|female|35.0|    1|    0|          113803|   53.1| C123|       S|female=Futrelle, ...|\n|          5|       0|     3|Allen, Mr. Willia...|  male|35.0|    0|    0|          373450|   8.05| null|       S|male=Allen, Mr. W...|\n+-----------+--------+------+--------------------+------+----+-----+-----+----------------+-------+-----+--------+--------------------+\nonly showing top 5 rows\n\n"
     ]
    }
   ],
   "source": [
    "#using dataframe\n",
    "parquet_df.withColumn(\"CombinedName\", concat_ws(\"=\",parquet_df[\"Sex\"],parquet_df[\"Name\"])).show(5)\n"
   ]
  },
  {
   "cell_type": "code",
   "execution_count": 0,
   "metadata": {
    "application/vnd.databricks.v1+cell": {
     "cellMetadata": {
      "byteLimit": 2048000,
      "rowLimit": 10000
     },
     "inputWidgets": {},
     "nuid": "c353c770-55a9-4af7-91f2-6eb49e00c693",
     "showTitle": false,
     "title": ""
    }
   },
   "outputs": [
    {
     "output_type": "stream",
     "name": "stdout",
     "output_type": "stream",
     "text": [
      "+-----------+--------+------+--------------------+------+----+-----+-----+----------------+-------+-----+--------+----------+\n|PassengerId|Survived|Pclass|                Name|   Sex| Age|SibSp|Parch|          Ticket|   Fare|Cabin|Embarked|NameLength|\n+-----------+--------+------+--------------------+------+----+-----+-----+----------------+-------+-----+--------+----------+\n|          1|       0|     3|Braund, Mr. Owen ...|  male|22.0|    1|    0|       A/5 21171|   7.25| null|       S|        23|\n|          2|       1|     1|Cumings, Mrs. Joh...|female|38.0|    1|    0|        PC 17599|71.2833|  C85|       C|        51|\n|          3|       1|     3|Heikkinen, Miss. ...|female|26.0|    0|    0|STON/O2. 3101282|  7.925| null|       S|        22|\n|          4|       1|     1|Futrelle, Mrs. Ja...|female|35.0|    1|    0|          113803|   53.1| C123|       S|        44|\n|          5|       0|     3|Allen, Mr. Willia...|  male|35.0|    0|    0|          373450|   8.05| null|       S|        24|\n+-----------+--------+------+--------------------+------+----+-----+-----+----------------+-------+-----+--------+----------+\nonly showing top 5 rows\n\n"
     ]
    }
   ],
   "source": [
    "parquet_df.withColumn(\"NameLength\", length(col(\"Name\"))).show(5)"
   ]
  },
  {
   "cell_type": "code",
   "execution_count": 0,
   "metadata": {
    "application/vnd.databricks.v1+cell": {
     "cellMetadata": {
      "byteLimit": 2048000,
      "rowLimit": 10000
     },
     "inputWidgets": {},
     "nuid": "09a6b4b1-7384-41d7-9d98-06b4820f0774",
     "showTitle": false,
     "title": ""
    }
   },
   "outputs": [
    {
     "output_type": "stream",
     "name": "stdout",
     "output_type": "stream",
     "text": [
      "+--------------------+----------+\n|                Name|SubStrName|\n+--------------------+----------+\n|Braund, Mr. Owen ...|   raund, |\n|Cumings, Mrs. Joh...|   umings,|\n|Heikkinen, Miss. ...|   eikkine|\n|Futrelle, Mrs. Ja...|   utrelle|\n|Allen, Mr. Willia...|   llen, M|\n+--------------------+----------+\nonly showing top 5 rows\n\n"
     ]
    }
   ],
   "source": [
    "parquet_df.withColumn(\"SubStrName\", col(\"Name\").substr(2,7)).select(\"Name\",\"SubStrName\").show(5)"
   ]
  },
  {
   "cell_type": "code",
   "execution_count": 0,
   "metadata": {
    "application/vnd.databricks.v1+cell": {
     "cellMetadata": {
      "byteLimit": 2048000,
      "rowLimit": 10000
     },
     "inputWidgets": {},
     "nuid": "fcc68e7e-c13a-4059-b71d-d4bd5f556309",
     "showTitle": false,
     "title": ""
    }
   },
   "outputs": [
    {
     "output_type": "stream",
     "name": "stdout",
     "output_type": "stream",
     "text": [
      "Out[30]: DataFrame[PassengerId: bigint, Survived: bigint, Pclass: bigint, Name: string, Sex: string, Age: double, SibSp: bigint, Parch: bigint, Ticket: string, Fare: int, Cabin: string, Embarked: string]"
     ]
    }
   ],
   "source": [
    "#aritmetic functions\n",
    "\n",
    "parquet_df.withColumn(\"Fare\",col(\"Fare\").cast(IntegerType()))"
   ]
  },
  {
   "cell_type": "code",
   "execution_count": 0,
   "metadata": {
    "application/vnd.databricks.v1+cell": {
     "cellMetadata": {
      "byteLimit": 2048000,
      "rowLimit": 10000
     },
     "inputWidgets": {},
     "nuid": "56a58645-0fe4-45a6-967d-f89ea32fdff1",
     "showTitle": false,
     "title": ""
    }
   },
   "outputs": [
    {
     "output_type": "stream",
     "name": "stdout",
     "output_type": "stream",
     "text": [
      "+-------+------------------+\n|   Fare|           add_col|\n+-------+------------------+\n|   7.25|             21.75|\n|71.2833|          213.8499|\n|  7.925|            23.775|\n|   53.1|             159.3|\n|   8.05|24.150000000000002|\n+-------+------------------+\nonly showing top 5 rows\n\n"
     ]
    }
   ],
   "source": [
    "parquet_df.withColumn(\"add_col\", col(\"Fare\") + col(\"Fare\")*2).select(\"Fare\", \"add_col\").show(5)"
   ]
  },
  {
   "cell_type": "code",
   "execution_count": 0,
   "metadata": {
    "application/vnd.databricks.v1+cell": {
     "cellMetadata": {
      "byteLimit": 2048000,
      "rowLimit": 10000
     },
     "inputWidgets": {},
     "nuid": "8ac4520c-8d43-4347-b93d-1cde1e32686d",
     "showTitle": false,
     "title": ""
    }
   },
   "outputs": [
    {
     "output_type": "stream",
     "name": "stdout",
     "output_type": "stream",
     "text": [
      "+-------+------------------+\n|   Fare|           sub_col|\n+-------+------------------+\n|   7.25|              14.5|\n|71.2833|          142.5666|\n|  7.925|15.849999999999998|\n|   53.1|106.20000000000002|\n|   8.05|              16.1|\n+-------+------------------+\nonly showing top 5 rows\n\n"
     ]
    }
   ],
   "source": [
    "parquet_df.withColumn(\"sub_col\", col(\"Fare\")*3 - col(\"Fare\")).select(\"Fare\", \"sub_col\").show(5)"
   ]
  },
  {
   "cell_type": "code",
   "execution_count": 0,
   "metadata": {
    "application/vnd.databricks.v1+cell": {
     "cellMetadata": {
      "byteLimit": 2048000,
      "rowLimit": 10000
     },
     "inputWidgets": {},
     "nuid": "443f33ba-5719-4141-99a6-2e6f4867bf3f",
     "showTitle": false,
     "title": ""
    }
   },
   "outputs": [
    {
     "output_type": "stream",
     "name": "stdout",
     "output_type": "stream",
     "text": [
      "+-------+------------------+\n|   Fare|           mul_col|\n+-------+------------------+\n|   7.25|             21.75|\n|71.2833|          213.8499|\n|  7.925|            23.775|\n|   53.1|             159.3|\n|   8.05|24.150000000000002|\n+-------+------------------+\nonly showing top 5 rows\n\n"
     ]
    }
   ],
   "source": [
    "parquet_df.withColumn(\"mul_col\", col(\"Fare\")*3).select(\"Fare\", \"mul_col\").show(5)"
   ]
  },
  {
   "cell_type": "code",
   "execution_count": 0,
   "metadata": {
    "application/vnd.databricks.v1+cell": {
     "cellMetadata": {
      "byteLimit": 2048000,
      "rowLimit": 10000
     },
     "inputWidgets": {},
     "nuid": "ccf83e06-dd32-4b33-a4f4-ca3c0d059cdb",
     "showTitle": false,
     "title": ""
    }
   },
   "outputs": [
    {
     "output_type": "stream",
     "name": "stdout",
     "output_type": "stream",
     "text": [
      "+-------+--------+\n|   Fare| div_col|\n+-------+--------+\n|   7.25|   3.625|\n|71.2833|35.64165|\n|  7.925|  3.9625|\n|   53.1|   26.55|\n|   8.05|   4.025|\n+-------+--------+\nonly showing top 5 rows\n\n"
     ]
    }
   ],
   "source": [
    "parquet_df.withColumn(\"div_col\", col(\"Fare\") / 2).select(\"Fare\", \"div_col\").show(5)"
   ]
  },
  {
   "cell_type": "code",
   "execution_count": 0,
   "metadata": {
    "application/vnd.databricks.v1+cell": {
     "cellMetadata": {
      "byteLimit": 2048000,
      "rowLimit": 10000
     },
     "inputWidgets": {},
     "nuid": "4e62f1cd-5e8d-4ddf-a249-60927e8d33a7",
     "showTitle": false,
     "title": ""
    }
   },
   "outputs": [
    {
     "output_type": "stream",
     "name": "stdout",
     "output_type": "stream",
     "text": [
      "+-------+-------------------+\n|   Fare|            mod_col|\n+-------+-------------------+\n|   7.25|               1.25|\n|71.2833|  1.283299999999997|\n|  7.925| 1.9249999999999998|\n|   53.1| 1.1000000000000014|\n|   8.05|0.05000000000000071|\n+-------+-------------------+\nonly showing top 5 rows\n\n"
     ]
    }
   ],
   "source": [
    "parquet_df.withColumn(\"mod_col\", col(\"Fare\")%2).select(\"Fare\", \"mod_col\").show(5)"
   ]
  },
  {
   "cell_type": "code",
   "execution_count": 0,
   "metadata": {
    "application/vnd.databricks.v1+cell": {
     "cellMetadata": {
      "byteLimit": 2048000,
      "rowLimit": 10000
     },
     "inputWidgets": {},
     "nuid": "43011e6e-42e3-40ed-999a-ab0969e778ae",
     "showTitle": false,
     "title": ""
    }
   },
   "outputs": [
    {
     "output_type": "stream",
     "name": "stdout",
     "output_type": "stream",
     "text": [
      "+-------+--------+\n|   Fare|ceil_col|\n+-------+--------+\n|   7.25|       8|\n|71.2833|      72|\n|  7.925|       8|\n|   53.1|      54|\n|   8.05|       9|\n+-------+--------+\nonly showing top 5 rows\n\n"
     ]
    }
   ],
   "source": [
    "parquet_df.withColumn(\"ceil_col\", ceil(col(\"Fare\"))).select(\"Fare\", \"ceil_col\").show(5)"
   ]
  },
  {
   "cell_type": "code",
   "execution_count": 0,
   "metadata": {
    "application/vnd.databricks.v1+cell": {
     "cellMetadata": {
      "byteLimit": 2048000,
      "rowLimit": 10000
     },
     "inputWidgets": {},
     "nuid": "292a1575-aa2d-4631-a341-0f1ebb9a3249",
     "showTitle": false,
     "title": ""
    }
   },
   "outputs": [
    {
     "output_type": "stream",
     "name": "stdout",
     "output_type": "stream",
     "text": [
      "+-------+---------+\n|   Fare|round_col|\n+-------+---------+\n|   7.25|      7.0|\n|71.2833|     71.0|\n|  7.925|      8.0|\n|   53.1|     53.0|\n|   8.05|      8.0|\n+-------+---------+\nonly showing top 5 rows\n\n"
     ]
    }
   ],
   "source": [
    "parquet_df.withColumn(\"round_col\", round(col(\"Fare\"))).select(\"Fare\", \"round_col\").show(5)"
   ]
  },
  {
   "cell_type": "code",
   "execution_count": 0,
   "metadata": {
    "application/vnd.databricks.v1+cell": {
     "cellMetadata": {
      "byteLimit": 2048000,
      "rowLimit": 10000
     },
     "inputWidgets": {},
     "nuid": "c1886c30-e2d9-409b-ace4-ac82ffa5ed03",
     "showTitle": false,
     "title": ""
    }
   },
   "outputs": [
    {
     "output_type": "stream",
     "name": "stdout",
     "output_type": "stream",
     "text": [
      "+-------+---------+\n|   Fare|floor_col|\n+-------+---------+\n|   7.25|        7|\n|71.2833|       71|\n|  7.925|        7|\n|   53.1|       53|\n|   8.05|        8|\n+-------+---------+\nonly showing top 5 rows\n\n"
     ]
    }
   ],
   "source": [
    "parquet_df.withColumn(\"floor_col\", floor(col(\"Fare\"))).select(\"Fare\", \"floor_col\").show(5)"
   ]
  },
  {
   "cell_type": "code",
   "execution_count": 0,
   "metadata": {
    "application/vnd.databricks.v1+cell": {
     "cellMetadata": {},
     "inputWidgets": {},
     "nuid": "42d9c661-813b-42be-9cac-5fec3feb6af7",
     "showTitle": false,
     "title": ""
    }
   },
   "outputs": [],
   "source": [
    "#date functions\n",
    "\n",
    "dummy_df.withColumn(\"std_date_format_col\", to_date(col(\"date_col\"), \"M/d/yyyy\")).show()\n",
    "dummy_df.withColumn(\"std_date_format_col\", date_format(to_date(col(\"date_col\"), \"M/d/yyyy\")), \"yyyy/MM/dd\").show()\n",
    "dummy_df.withColumn(\"std_date_format_col\", date_format(to_date(col(\"date_col\"), \"M/d/yyyy\")), \"yyyy*MM*dd\").show()"
   ]
  },
  {
   "cell_type": "code",
   "execution_count": 0,
   "metadata": {
    "application/vnd.databricks.v1+cell": {
     "cellMetadata": {
      "byteLimit": 2048000,
      "rowLimit": 10000
     },
     "inputWidgets": {},
     "nuid": "69088a6a-b410-4f29-ad14-056fa952c115",
     "showTitle": false,
     "title": ""
    }
   },
   "outputs": [
    {
     "output_type": "stream",
     "name": "stdout",
     "output_type": "stream",
     "text": [
      "+---------+---------+------------------+----------------+-----------+\n|min(Fare)|max(Fare)|         sum(Fare)|       avg(Fare)|count(Fare)|\n+---------+---------+------------------+----------------+-----------+\n|      0.0| 512.3292|28693.949299999967|32.2042079685746|        891|\n+---------+---------+------------------+----------------+-----------+\n\n"
     ]
    }
   ],
   "source": [
    "#aggregate functions\n",
    "\n",
    "parquet_df.agg(min(\"Fare\"),max(\"Fare\"),sum(\"Fare\"),avg(\"Fare\"),count(\"Fare\")).show()"
   ]
  },
  {
   "cell_type": "code",
   "execution_count": 0,
   "metadata": {
    "application/vnd.databricks.v1+cell": {
     "cellMetadata": {},
     "inputWidgets": {},
     "nuid": "94c4c493-df1f-4533-b244-b8665b9e8b29",
     "showTitle": false,
     "title": ""
    }
   },
   "outputs": [],
   "source": []
  }
 ],
 "metadata": {
  "application/vnd.databricks.v1+notebook": {
   "dashboards": [],
   "language": "python",
   "notebookMetadata": {
    "pythonIndentUnit": 4
   },
   "notebookName": "functionsSQL",
   "widgets": {}
  }
 },
 "nbformat": 4,
 "nbformat_minor": 0
}
