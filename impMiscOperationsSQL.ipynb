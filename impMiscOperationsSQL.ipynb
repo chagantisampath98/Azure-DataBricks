{
 "cells": [
  {
   "cell_type": "code",
   "execution_count": 0,
   "metadata": {
    "application/vnd.databricks.v1+cell": {
     "cellMetadata": {
      "byteLimit": 2048000,
      "rowLimit": 10000
     },
     "inputWidgets": {},
     "nuid": "9a26d2b6-44d4-4b6e-bd51-07b2f6b0780c",
     "showTitle": false,
     "title": ""
    }
   },
   "outputs": [],
   "source": [
    "from pyspark.sql import SparkSession\n",
    "from pyspark.sql.functions import *\n",
    "#from pyspark.sql.types import IntegerType\n",
    "\n",
    "spark = SparkSession.builder.appName(\"distinctSQL\").getOrCreate()"
   ]
  },
  {
   "cell_type": "code",
   "execution_count": 0,
   "metadata": {
    "application/vnd.databricks.v1+cell": {
     "cellMetadata": {
      "byteLimit": 2048000,
      "rowLimit": 10000
     },
     "inputWidgets": {},
     "nuid": "36d8b4e2-9006-4c9a-820b-6ce8907b54fb",
     "showTitle": false,
     "title": ""
    }
   },
   "outputs": [],
   "source": [
    "df2 = spark.read.csv(\"/FileStore/tables/F1_driver_bio2.csv\",header=True)\n",
    "\n",
    "df1 = spark.read.csv(\"/FileStore/tables/F1_driver_bio-1.csv\",header=True)"
   ]
  },
  {
   "cell_type": "code",
   "execution_count": 0,
   "metadata": {
    "application/vnd.databricks.v1+cell": {
     "cellMetadata": {
      "byteLimit": 2048000,
      "rowLimit": 10000
     },
     "inputWidgets": {},
     "nuid": "bbc71c14-df21-4e61-bc75-2e31649f2255",
     "showTitle": false,
     "title": ""
    }
   },
   "outputs": [
    {
     "output_type": "stream",
     "name": "stdout",
     "output_type": "stream",
     "text": [
      "root\n |-- Driver: string (nullable = true)\n |-- Abbreviation: string (nullable = true)\n |-- No: string (nullable = true)\n |-- Team: string (nullable = true)\n |-- Country: string (nullable = true)\n |-- Date of Birth: string (nullable = true)\n |-- Place of Birth: string (nullable = true)\n\n"
     ]
    }
   ],
   "source": [
    "df1.printSchema()"
   ]
  },
  {
   "cell_type": "code",
   "execution_count": 0,
   "metadata": {
    "application/vnd.databricks.v1+cell": {
     "cellMetadata": {
      "byteLimit": 2048000,
      "rowLimit": 10000
     },
     "inputWidgets": {},
     "nuid": "acb12171-36ed-48fe-ae6b-e76df051684f",
     "showTitle": false,
     "title": ""
    }
   },
   "outputs": [
    {
     "output_type": "stream",
     "name": "stdout",
     "output_type": "stream",
     "text": [
      "+----------------+------------+----+---------------+--------------+-------------+--------------------+\n|          Driver|Abbreviation|  No|           Team|       Country|Date of Birth|      Place of Birth|\n+----------------+------------+----+---------------+--------------+-------------+--------------------+\n|  Max Verstappen|         VER|   1|Red Bull Racing|   Netherlands|   30/09/1997|    Hasselt, Belgium|\n|    Sergio Perez|         PER|  11|Red Bull Racing|        Mexico|   26/01/1990| Guadalajara, Mexico|\n|  Lewis Hamilton|         HAM|  44|       Mercedes|United Kingdom|     7/1/1985|  Stevenage, England|\n| Fernando Alonso|         ALO|  14|   Aston Martin|         Spain|   29/07/1981|       Oviedo, Spain|\n| Charles Leclerc|         LEC|  16|        Ferrari|        Monaco|   16/10/1997| Monte Carlo, Monaco|\n|    Lando Norris|         NOR|   4|        McLaren|United Kingdom|   13/11/1999|    Bristol, England|\n|    Carlos Sainz|         SAI|  55|        Ferrari|         Sapin|     1/9/1994|       Madrid, Spain|\n|  George Russell|         RUS|  63|       Mercedes|United Kingdom|   15/02/1998|King's Lynn, England|\n|   Oscar Piastri|         PIA|  81|        McLaren|     Australia|     6/4/2001| Melbourne, Victoria|\n|    Lance Stroll|         STR|  18|   Aston Martin|        Canada|   29/10/1998|    Montreal, Canada|\n|    Pierre Gasly|         GAS|  10|         Alpine|        France|     7/2/1996|       Rouen, France|\n|    Esteban Ocon|         OCO|  31|         Alpine|        France|   17/09/1996|    Evreux, Normandy|\n| Alexander Albon|         ALB|  23|       Williams|      Thailand|   23/03/1996|     London, England|\n|    Yuki Tsunoda|         TSU|  22|     AlphaTauri|         Japan|    11/5/2000|   Sagamihara, Japan|\n| Valtteri Bottas|         BOT|  77|     Alfa Romeo|       Finland|   28/08/1989|    Nastola, Finland|\n| Nico Hulkenberg|         HUL|  27|   Haas F1 Team|       Germany|   19/08/1987|Emmerich am Rhein...|\n|Daniel Ricciardo|         RIC|   3|     AlphaTauri|     Australia|     1/7/1989|    Perth, Australia|\n|     Guanyu Zhou|         ZHO|  24|     Alfa Romeo|         China|   30/05/1999|     Shanghai, China|\n| Kevin Magnussen|         MAG|  20|   Haas F1 Team|       Denmark|    5/10/1992|   Roskilde, Denmark|\n|     Liam Lawson|         LAW|  40|     AlphaTauri|   New Zealand|    11/2/2002|Hastings, New Zea...|\n|  Logan Sargeant|         SAR|   2|       Williams| United States|   31/12/2000|Fort Lauderdale, ...|\n|            null|        null|null|           null|          null|         null|                null|\n|  Max Verstappen|         VER|   1|Red Bull Racing|   Netherlands|   30/09/1997|    Hasselt, Belgium|\n|    Sergio Perez|         PER|  11|Red Bull Racing|        Mexico|   26/01/1990| Guadalajara, Mexico|\n|  Lewis Hamilton|         HAM|  44|       Mercedes|United Kingdom|     7/1/1985|  Stevenage, England|\n| Fernando Alonso|         ALO|  14|   Aston Martin|         Spain|   29/07/1981|       Oviedo, Spain|\n| Charles Leclerc|         LEC|  16|        Ferrari|        Monaco|   16/10/1997| Monte Carlo, Monaco|\n|    Lando Norris|         NOR|   4|        McLaren|United Kingdom|   13/11/1999|    Bristol, England|\n|    Carlos Sainz|         SAI|  55|        Ferrari|         Sapin|     1/9/1994|       Madrid, Spain|\n|  George Russell|         RUS|  63|       Mercedes|United Kingdom|   15/02/1998|King's Lynn, England|\n|   Oscar Piastri|         PIA|  81|        McLaren|     Australia|     6/4/2001| Melbourne, Victoria|\n|    Lance Stroll|         STR|  18|   Aston Martin|        Canada|   29/10/1998|    Montreal, Canada|\n|    Pierre Gasly|         GAS|  10|         Alpine|        France|     7/2/1996|       Rouen, France|\n|    Esteban Ocon|         OCO|  31|         Alpine|        France|   17/09/1996|    Evreux, Normandy|\n| Alexander Albon|         ALB|  23|       Williams|      Thailand|   23/03/1996|     London, England|\n|    Yuki Tsunoda|         TSU|  22|     AlphaTauri|         Japan|    11/5/2000|   Sagamihara, Japan|\n|         sampath|         SAM|  12|Red Bull Racing|       Finland|     8/9/1999|    Nastola, Finland|\n|          rohith|         ROH|  99|   Haas F1 Team|       Germany|     1/8/1997|Emmerich am Rhein...|\n|           rahul|         RAH|  98|       Mercedes|     Australia|    15/9/1999|    Perth, Australia|\n|           pavan|         PAV|  97|        Ferrari|         China|     3/9/1989|     Shanghai, China|\n|        chaganti|         CHA|  96|   Haas F1 Team|       Denmark|   15/11/1999|   Roskilde, Denmark|\n|           sneha|         SNE|  95|        McLaren|   New Zealand|     1/2/2000|Hastings, New Zea...|\n|          sameer|         EER|  94|       Mercedes| United States|    1/12/2001|Fort Lauderdale, ...|\n+----------------+------------+----+---------------+--------------+-------------+--------------------+\n\n"
     ]
    }
   ],
   "source": [
    "new_df = df1.unionAll(df2)\n",
    "new_df.show(50)"
   ]
  },
  {
   "cell_type": "code",
   "execution_count": 0,
   "metadata": {
    "application/vnd.databricks.v1+cell": {
     "cellMetadata": {
      "byteLimit": 2048000,
      "rowLimit": 10000
     },
     "inputWidgets": {},
     "nuid": "14ed6365-9843-47ce-8f70-2e99ba31d6e3",
     "showTitle": false,
     "title": ""
    }
   },
   "outputs": [
    {
     "output_type": "stream",
     "name": "stdout",
     "output_type": "stream",
     "text": [
      "+----------------+------------+----+---------------+--------------+-------------+--------------------+\n|          Driver|Abbreviation|  No|           Team|       Country|Date of Birth|      Place of Birth|\n+----------------+------------+----+---------------+--------------+-------------+--------------------+\n|    Lance Stroll|         STR|  18|   Aston Martin|        Canada|   29/10/1998|    Montreal, Canada|\n| Charles Leclerc|         LEC|  16|        Ferrari|        Monaco|   16/10/1997| Monte Carlo, Monaco|\n|  Lewis Hamilton|         HAM|  44|       Mercedes|United Kingdom|     7/1/1985|  Stevenage, England|\n| Alexander Albon|         ALB|  23|       Williams|      Thailand|   23/03/1996|     London, England|\n|    Esteban Ocon|         OCO|  31|         Alpine|        France|   17/09/1996|    Evreux, Normandy|\n|    Lando Norris|         NOR|   4|        McLaren|United Kingdom|   13/11/1999|    Bristol, England|\n|            null|        null|null|           null|          null|         null|                null|\n|  Logan Sargeant|         SAR|   2|       Williams| United States|   31/12/2000|Fort Lauderdale, ...|\n|    Pierre Gasly|         GAS|  10|         Alpine|        France|     7/2/1996|       Rouen, France|\n|    Yuki Tsunoda|         TSU|  22|     AlphaTauri|         Japan|    11/5/2000|   Sagamihara, Japan|\n|     Liam Lawson|         LAW|  40|     AlphaTauri|   New Zealand|    11/2/2002|Hastings, New Zea...|\n| Nico Hulkenberg|         HUL|  27|   Haas F1 Team|       Germany|   19/08/1987|Emmerich am Rhein...|\n|   Oscar Piastri|         PIA|  81|        McLaren|     Australia|     6/4/2001| Melbourne, Victoria|\n| Fernando Alonso|         ALO|  14|   Aston Martin|         Spain|   29/07/1981|       Oviedo, Spain|\n|  George Russell|         RUS|  63|       Mercedes|United Kingdom|   15/02/1998|King's Lynn, England|\n|    Sergio Perez|         PER|  11|Red Bull Racing|        Mexico|   26/01/1990| Guadalajara, Mexico|\n| Kevin Magnussen|         MAG|  20|   Haas F1 Team|       Denmark|    5/10/1992|   Roskilde, Denmark|\n|    Carlos Sainz|         SAI|  55|        Ferrari|         Sapin|     1/9/1994|       Madrid, Spain|\n|Daniel Ricciardo|         RIC|   3|     AlphaTauri|     Australia|     1/7/1989|    Perth, Australia|\n|  Max Verstappen|         VER|   1|Red Bull Racing|   Netherlands|   30/09/1997|    Hasselt, Belgium|\n| Valtteri Bottas|         BOT|  77|     Alfa Romeo|       Finland|   28/08/1989|    Nastola, Finland|\n|     Guanyu Zhou|         ZHO|  24|     Alfa Romeo|         China|   30/05/1999|     Shanghai, China|\n|         sampath|         SAM|  12|Red Bull Racing|       Finland|     8/9/1999|    Nastola, Finland|\n|          rohith|         ROH|  99|   Haas F1 Team|       Germany|     1/8/1997|Emmerich am Rhein...|\n|           sneha|         SNE|  95|        McLaren|   New Zealand|     1/2/2000|Hastings, New Zea...|\n|          sameer|         EER|  94|       Mercedes| United States|    1/12/2001|Fort Lauderdale, ...|\n|        chaganti|         CHA|  96|   Haas F1 Team|       Denmark|   15/11/1999|   Roskilde, Denmark|\n|           rahul|         RAH|  98|       Mercedes|     Australia|    15/9/1999|    Perth, Australia|\n|           pavan|         PAV|  97|        Ferrari|         China|     3/9/1989|     Shanghai, China|\n+----------------+------------+----+---------------+--------------+-------------+--------------------+\n\n"
     ]
    }
   ],
   "source": [
    "distinct_df = new_df.distinct()\n",
    "distinct_df.show(30)"
   ]
  },
  {
   "cell_type": "code",
   "execution_count": 0,
   "metadata": {
    "application/vnd.databricks.v1+cell": {
     "cellMetadata": {
      "byteLimit": 2048000,
      "rowLimit": 10000
     },
     "inputWidgets": {},
     "nuid": "de516610-65ad-425e-976c-88271b36c268",
     "showTitle": false,
     "title": ""
    }
   },
   "outputs": [
    {
     "output_type": "stream",
     "name": "stdout",
     "output_type": "stream",
     "text": [
      "+----------------+------------+----+---------------+--------------+-------------+--------------------+\n|          Driver|Abbreviation|  No|           Team|       Country|Date of Birth|      Place of Birth|\n+----------------+------------+----+---------------+--------------+-------------+--------------------+\n|    Lance Stroll|         STR|  18|   Aston Martin|        Canada|   29/10/1998|    Montreal, Canada|\n| Charles Leclerc|         LEC|  16|        Ferrari|        Monaco|   16/10/1997| Monte Carlo, Monaco|\n|  Lewis Hamilton|         HAM|  44|       Mercedes|United Kingdom|     7/1/1985|  Stevenage, England|\n| Alexander Albon|         ALB|  23|       Williams|      Thailand|   23/03/1996|     London, England|\n|    Esteban Ocon|         OCO|  31|         Alpine|        France|   17/09/1996|    Evreux, Normandy|\n|    Lando Norris|         NOR|   4|        McLaren|United Kingdom|   13/11/1999|    Bristol, England|\n|            null|        null|null|           null|          null|         null|                null|\n|  Logan Sargeant|         SAR|   2|       Williams| United States|   31/12/2000|Fort Lauderdale, ...|\n|    Pierre Gasly|         GAS|  10|         Alpine|        France|     7/2/1996|       Rouen, France|\n|    Yuki Tsunoda|         TSU|  22|     AlphaTauri|         Japan|    11/5/2000|   Sagamihara, Japan|\n|     Liam Lawson|         LAW|  40|     AlphaTauri|   New Zealand|    11/2/2002|Hastings, New Zea...|\n| Nico Hulkenberg|         HUL|  27|   Haas F1 Team|       Germany|   19/08/1987|Emmerich am Rhein...|\n|   Oscar Piastri|         PIA|  81|        McLaren|     Australia|     6/4/2001| Melbourne, Victoria|\n| Fernando Alonso|         ALO|  14|   Aston Martin|         Spain|   29/07/1981|       Oviedo, Spain|\n|  George Russell|         RUS|  63|       Mercedes|United Kingdom|   15/02/1998|King's Lynn, England|\n|    Sergio Perez|         PER|  11|Red Bull Racing|        Mexico|   26/01/1990| Guadalajara, Mexico|\n| Kevin Magnussen|         MAG|  20|   Haas F1 Team|       Denmark|    5/10/1992|   Roskilde, Denmark|\n|    Carlos Sainz|         SAI|  55|        Ferrari|         Sapin|     1/9/1994|       Madrid, Spain|\n|Daniel Ricciardo|         RIC|   3|     AlphaTauri|     Australia|     1/7/1989|    Perth, Australia|\n|  Max Verstappen|         VER|   1|Red Bull Racing|   Netherlands|   30/09/1997|    Hasselt, Belgium|\n| Valtteri Bottas|         BOT|  77|     Alfa Romeo|       Finland|   28/08/1989|    Nastola, Finland|\n|     Guanyu Zhou|         ZHO|  24|     Alfa Romeo|         China|   30/05/1999|     Shanghai, China|\n|         sampath|         SAM|  12|Red Bull Racing|       Finland|     8/9/1999|    Nastola, Finland|\n|          rohith|         ROH|  99|   Haas F1 Team|       Germany|     1/8/1997|Emmerich am Rhein...|\n|           sneha|         SNE|  95|        McLaren|   New Zealand|     1/2/2000|Hastings, New Zea...|\n|          sameer|         EER|  94|       Mercedes| United States|    1/12/2001|Fort Lauderdale, ...|\n|        chaganti|         CHA|  96|   Haas F1 Team|       Denmark|   15/11/1999|   Roskilde, Denmark|\n|           rahul|         RAH|  98|       Mercedes|     Australia|    15/9/1999|    Perth, Australia|\n|           pavan|         PAV|  97|        Ferrari|         China|     3/9/1989|     Shanghai, China|\n+----------------+------------+----+---------------+--------------+-------------+--------------------+\n\n"
     ]
    }
   ],
   "source": [
    "dropdop_df = new_df.dropDuplicates()\n",
    "dropdop_df.show(30)"
   ]
  },
  {
   "cell_type": "code",
   "execution_count": 0,
   "metadata": {
    "application/vnd.databricks.v1+cell": {
     "cellMetadata": {
      "byteLimit": 2048000,
      "rowLimit": 10000
     },
     "inputWidgets": {},
     "nuid": "8e400a2d-7f36-4882-8e92-2b0f3fac9acd",
     "showTitle": false,
     "title": ""
    }
   },
   "outputs": [
    {
     "output_type": "stream",
     "name": "stdout",
     "output_type": "stream",
     "text": [
      "+----------------+------------+---+---------------+--------------+-------------+--------------------+\n|          Driver|Abbreviation| No|           Team|       Country|Date of Birth|      Place of Birth|\n+----------------+------------+---+---------------+--------------+-------------+--------------------+\n|  Max Verstappen|         VER|  1|Red Bull Racing|   Netherlands|   30/09/1997|    Hasselt, Belgium|\n|    Sergio Perez|         PER| 11|Red Bull Racing|        Mexico|   26/01/1990| Guadalajara, Mexico|\n|  Lewis Hamilton|         HAM| 44|       Mercedes|United Kingdom|     7/1/1985|  Stevenage, England|\n| Fernando Alonso|         ALO| 14|   Aston Martin|         Spain|   29/07/1981|       Oviedo, Spain|\n| Charles Leclerc|         LEC| 16|        Ferrari|        Monaco|   16/10/1997| Monte Carlo, Monaco|\n|    Lando Norris|         NOR|  4|        McLaren|United Kingdom|   13/11/1999|    Bristol, England|\n|    Carlos Sainz|         SAI| 55|        Ferrari|         Sapin|     1/9/1994|       Madrid, Spain|\n|  George Russell|         RUS| 63|       Mercedes|United Kingdom|   15/02/1998|King's Lynn, England|\n|   Oscar Piastri|         PIA| 81|        McLaren|     Australia|     6/4/2001| Melbourne, Victoria|\n|    Lance Stroll|         STR| 18|   Aston Martin|        Canada|   29/10/1998|    Montreal, Canada|\n|    Pierre Gasly|         GAS| 10|         Alpine|        France|     7/2/1996|       Rouen, France|\n|    Esteban Ocon|         OCO| 31|         Alpine|        France|   17/09/1996|    Evreux, Normandy|\n| Alexander Albon|         ALB| 23|       Williams|      Thailand|   23/03/1996|     London, England|\n|    Yuki Tsunoda|         TSU| 22|     AlphaTauri|         Japan|    11/5/2000|   Sagamihara, Japan|\n| Valtteri Bottas|         BOT| 77|     Alfa Romeo|       Finland|   28/08/1989|    Nastola, Finland|\n| Nico Hulkenberg|         HUL| 27|   Haas F1 Team|       Germany|   19/08/1987|Emmerich am Rhein...|\n|Daniel Ricciardo|         RIC|  3|     AlphaTauri|     Australia|     1/7/1989|    Perth, Australia|\n|     Guanyu Zhou|         ZHO| 24|     Alfa Romeo|         China|   30/05/1999|     Shanghai, China|\n| Kevin Magnussen|         MAG| 20|   Haas F1 Team|       Denmark|    5/10/1992|   Roskilde, Denmark|\n|     Liam Lawson|         LAW| 40|     AlphaTauri|   New Zealand|    11/2/2002|Hastings, New Zea...|\n|  Logan Sargeant|         SAR|  2|       Williams| United States|   31/12/2000|Fort Lauderdale, ...|\n|              --|          --| --|             --|            --|           --|                  --|\n|  Max Verstappen|         VER|  1|Red Bull Racing|   Netherlands|   30/09/1997|    Hasselt, Belgium|\n|    Sergio Perez|         PER| 11|Red Bull Racing|        Mexico|   26/01/1990| Guadalajara, Mexico|\n|  Lewis Hamilton|         HAM| 44|       Mercedes|United Kingdom|     7/1/1985|  Stevenage, England|\n| Fernando Alonso|         ALO| 14|   Aston Martin|         Spain|   29/07/1981|       Oviedo, Spain|\n| Charles Leclerc|         LEC| 16|        Ferrari|        Monaco|   16/10/1997| Monte Carlo, Monaco|\n|    Lando Norris|         NOR|  4|        McLaren|United Kingdom|   13/11/1999|    Bristol, England|\n|    Carlos Sainz|         SAI| 55|        Ferrari|         Sapin|     1/9/1994|       Madrid, Spain|\n|  George Russell|         RUS| 63|       Mercedes|United Kingdom|   15/02/1998|King's Lynn, England|\n+----------------+------------+---+---------------+--------------+-------------+--------------------+\nonly showing top 30 rows\n\n"
     ]
    }
   ],
   "source": [
    "#handling null values\n",
    "\n",
    "null_df = new_df.na.fill(\"--\")\n",
    "null_df.show(30)"
   ]
  },
  {
   "cell_type": "code",
   "execution_count": 0,
   "metadata": {
    "application/vnd.databricks.v1+cell": {
     "cellMetadata": {
      "byteLimit": 2048000,
      "rowLimit": 10000
     },
     "inputWidgets": {},
     "nuid": "6c575c86-67ca-45aa-aab9-1a179d21ce38",
     "showTitle": false,
     "title": ""
    }
   },
   "outputs": [
    {
     "output_type": "stream",
     "name": "stdout",
     "output_type": "stream",
     "text": [
      "+----------------+------------+----+---------------+--------------+-------------+--------------------+\n|          Driver|Abbreviation|  No|           Team|       Country|Date of Birth|      Place of Birth|\n+----------------+------------+----+---------------+--------------+-------------+--------------------+\n|  Max Verstappen|         VER|   1|Red Bull Racing|   Netherlands|   30/09/1997|    Hasselt, Belgium|\n|    Sergio Perez|         PER|  11|Red Bull Racing|        Mexico|   26/01/1990| Guadalajara, Mexico|\n|  Lewis Hamilton|         HAM|  44|       Mercedes|United Kingdom|     7/1/1985|  Stevenage, England|\n| Fernando Alonso|         ALO|  14|   Aston Martin|         Spain|   29/07/1981|       Oviedo, Spain|\n| Charles Leclerc|         LEC|  16|        Ferrari|        Monaco|   16/10/1997| Monte Carlo, Monaco|\n|    Lando Norris|         NOR|   4|        McLaren|United Kingdom|   13/11/1999|    Bristol, England|\n|    Carlos Sainz|         SAI|  55|        Ferrari|         Sapin|     1/9/1994|       Madrid, Spain|\n|  George Russell|         RUS|  63|       Mercedes|United Kingdom|   15/02/1998|King's Lynn, England|\n|   Oscar Piastri|         PIA|  81|        McLaren|     Australia|     6/4/2001| Melbourne, Victoria|\n|    Lance Stroll|         STR|  18|   Aston Martin|        Canada|   29/10/1998|    Montreal, Canada|\n|    Pierre Gasly|         GAS|  10|         Alpine|        France|     7/2/1996|       Rouen, France|\n|    Esteban Ocon|         OCO|  31|         Alpine|        France|   17/09/1996|    Evreux, Normandy|\n| Alexander Albon|         ALB|  23|       Williams|      Thailand|   23/03/1996|     London, England|\n|    Yuki Tsunoda|         TSU|  22|     AlphaTauri|         Japan|    11/5/2000|   Sagamihara, Japan|\n| Valtteri Bottas|         BOT|  77|     Alfa Romeo|       Finland|   28/08/1989|    Nastola, Finland|\n| Nico Hulkenberg|         HUL|  27|   Haas F1 Team|       Germany|   19/08/1987|Emmerich am Rhein...|\n|Daniel Ricciardo|         RIC|   3|     AlphaTauri|     Australia|     1/7/1989|    Perth, Australia|\n|     Guanyu Zhou|         ZHO|  24|     Alfa Romeo|         China|   30/05/1999|     Shanghai, China|\n| Kevin Magnussen|         MAG|  20|   Haas F1 Team|       Denmark|    5/10/1992|   Roskilde, Denmark|\n|     Liam Lawson|         LAW|  40|     AlphaTauri|   New Zealand|    11/2/2002|Hastings, New Zea...|\n|  Logan Sargeant|         SAR|   2|       Williams| United States|   31/12/2000|Fort Lauderdale, ...|\n|            null|        null|null|             --|            --|         null|                null|\n|  Max Verstappen|         VER|   1|Red Bull Racing|   Netherlands|   30/09/1997|    Hasselt, Belgium|\n|    Sergio Perez|         PER|  11|Red Bull Racing|        Mexico|   26/01/1990| Guadalajara, Mexico|\n|  Lewis Hamilton|         HAM|  44|       Mercedes|United Kingdom|     7/1/1985|  Stevenage, England|\n| Fernando Alonso|         ALO|  14|   Aston Martin|         Spain|   29/07/1981|       Oviedo, Spain|\n| Charles Leclerc|         LEC|  16|        Ferrari|        Monaco|   16/10/1997| Monte Carlo, Monaco|\n|    Lando Norris|         NOR|   4|        McLaren|United Kingdom|   13/11/1999|    Bristol, England|\n|    Carlos Sainz|         SAI|  55|        Ferrari|         Sapin|     1/9/1994|       Madrid, Spain|\n|  George Russell|         RUS|  63|       Mercedes|United Kingdom|   15/02/1998|King's Lynn, England|\n+----------------+------------+----+---------------+--------------+-------------+--------------------+\nonly showing top 30 rows\n\n"
     ]
    }
   ],
   "source": [
    "#handling null values\n",
    "\n",
    "nullsss_df = new_df.na.fill(\"--\",[\"Country\",\"Team\"])\n",
    "nullsss_df.show(30)"
   ]
  },
  {
   "cell_type": "code",
   "execution_count": 0,
   "metadata": {
    "application/vnd.databricks.v1+cell": {
     "cellMetadata": {
      "byteLimit": 2048000,
      "rowLimit": 10000
     },
     "inputWidgets": {},
     "nuid": "901a06be-0d3b-45a9-b42f-9c7226984e98",
     "showTitle": false,
     "title": ""
    }
   },
   "outputs": [
    {
     "output_type": "stream",
     "name": "stdout",
     "output_type": "stream",
     "text": [
      "+----------------+------------+---+---------------+--------------+-------------+--------------------+\n|          Driver|Abbreviation| No|           Team|       Country|Date of Birth|      Place of Birth|\n+----------------+------------+---+---------------+--------------+-------------+--------------------+\n|  Max Verstappen|         VER|  1|Red Bull Racing|   Netherlands|   30/09/1997|    Hasselt, Belgium|\n|    Sergio Perez|         PER| 11|Red Bull Racing|        Mexico|   26/01/1990| Guadalajara, Mexico|\n|  Lewis Hamilton|         HAM| 44|       Mercedes|United Kingdom|     7/1/1985|  Stevenage, England|\n| Fernando Alonso|         ALO| 14|   Aston Martin|         Spain|   29/07/1981|       Oviedo, Spain|\n| Charles Leclerc|         LEC| 16|        Ferrari|        Monaco|   16/10/1997| Monte Carlo, Monaco|\n|    Lando Norris|         NOR|  4|        McLaren|United Kingdom|   13/11/1999|    Bristol, England|\n|    Carlos Sainz|         SAI| 55|        Ferrari|         Sapin|     1/9/1994|       Madrid, Spain|\n|  George Russell|         RUS| 63|       Mercedes|United Kingdom|   15/02/1998|King's Lynn, England|\n|   Oscar Piastri|         PIA| 81|        McLaren|     Australia|     6/4/2001| Melbourne, Victoria|\n|    Lance Stroll|         STR| 18|   Aston Martin|        Canada|   29/10/1998|    Montreal, Canada|\n|    Pierre Gasly|         GAS| 10|         Alpine|        France|     7/2/1996|       Rouen, France|\n|    Esteban Ocon|         OCO| 31|         Alpine|        France|   17/09/1996|    Evreux, Normandy|\n| Alexander Albon|         ALB| 23|       Williams|      Thailand|   23/03/1996|     London, England|\n|    Yuki Tsunoda|         TSU| 22|     AlphaTauri|         Japan|    11/5/2000|   Sagamihara, Japan|\n| Valtteri Bottas|         BOT| 77|     Alfa Romeo|       Finland|   28/08/1989|    Nastola, Finland|\n| Nico Hulkenberg|         HUL| 27|   Haas F1 Team|       Germany|   19/08/1987|Emmerich am Rhein...|\n|Daniel Ricciardo|         RIC|  3|     AlphaTauri|     Australia|     1/7/1989|    Perth, Australia|\n|     Guanyu Zhou|         ZHO| 24|     Alfa Romeo|         China|   30/05/1999|     Shanghai, China|\n| Kevin Magnussen|         MAG| 20|   Haas F1 Team|       Denmark|    5/10/1992|   Roskilde, Denmark|\n|     Liam Lawson|         LAW| 40|     AlphaTauri|   New Zealand|    11/2/2002|Hastings, New Zea...|\n|  Logan Sargeant|         SAR|  2|       Williams| United States|   31/12/2000|Fort Lauderdale, ...|\n|               0|           0|  0|              0|             0|            0|                   0|\n|  Max Verstappen|         VER|  1|Red Bull Racing|   Netherlands|   30/09/1997|    Hasselt, Belgium|\n|    Sergio Perez|         PER| 11|Red Bull Racing|        Mexico|   26/01/1990| Guadalajara, Mexico|\n|  Lewis Hamilton|         HAM| 44|       Mercedes|United Kingdom|     7/1/1985|  Stevenage, England|\n| Fernando Alonso|         ALO| 14|   Aston Martin|         Spain|   29/07/1981|       Oviedo, Spain|\n| Charles Leclerc|         LEC| 16|        Ferrari|        Monaco|   16/10/1997| Monte Carlo, Monaco|\n|    Lando Norris|         NOR|  4|        McLaren|United Kingdom|   13/11/1999|    Bristol, England|\n|    Carlos Sainz|         SAI| 55|        Ferrari|         Sapin|     1/9/1994|       Madrid, Spain|\n|  George Russell|         RUS| 63|       Mercedes|United Kingdom|   15/02/1998|King's Lynn, England|\n+----------------+------------+---+---------------+--------------+-------------+--------------------+\nonly showing top 30 rows\n\n"
     ]
    }
   ],
   "source": [
    "#handling null values\n",
    "\n",
    "null0_df = new_df.na.fill(\"0\")\n",
    "null0_df.show(30)"
   ]
  },
  {
   "cell_type": "code",
   "execution_count": 0,
   "metadata": {
    "application/vnd.databricks.v1+cell": {
     "cellMetadata": {
      "byteLimit": 2048000,
      "rowLimit": 10000
     },
     "inputWidgets": {},
     "nuid": "54484bd1-db3b-4ce6-b5cf-68d02b76a304",
     "showTitle": false,
     "title": ""
    }
   },
   "outputs": [
    {
     "output_type": "stream",
     "name": "stdout",
     "output_type": "stream",
     "text": [
      "+----------------+------------+---+---------------+--------------+-------------+--------------------+\n|          Driver|Abbreviation| No|           Team|       Country|Date of Birth|      Place of Birth|\n+----------------+------------+---+---------------+--------------+-------------+--------------------+\n|  Max Verstappen|         VER|  1|Red Bull Racing|   Netherlands|   30/09/1997|    Hasselt, Belgium|\n|    Sergio Perez|         PER| 11|Red Bull Racing|        Mexico|   26/01/1990| Guadalajara, Mexico|\n|  Lewis Hamilton|         HAM| 44|       Mercedes|United Kingdom|     7/1/1985|  Stevenage, England|\n| Fernando Alonso|         ALO| 14|   Aston Martin|         Spain|   29/07/1981|       Oviedo, Spain|\n| Charles Leclerc|         LEC| 16|        Ferrari|        Monaco|   16/10/1997| Monte Carlo, Monaco|\n|    Lando Norris|         NOR|  4|        McLaren|United Kingdom|   13/11/1999|    Bristol, England|\n|    Carlos Sainz|         SAI| 55|        Ferrari|         Sapin|     1/9/1994|       Madrid, Spain|\n|  George Russell|         RUS| 63|       Mercedes|United Kingdom|   15/02/1998|King's Lynn, England|\n|   Oscar Piastri|         PIA| 81|        McLaren|     Australia|     6/4/2001| Melbourne, Victoria|\n|    Lance Stroll|         STR| 18|   Aston Martin|        Canada|   29/10/1998|    Montreal, Canada|\n|    Pierre Gasly|         GAS| 10|         Alpine|        France|     7/2/1996|       Rouen, France|\n|    Esteban Ocon|         OCO| 31|         Alpine|        France|   17/09/1996|    Evreux, Normandy|\n| Alexander Albon|         ALB| 23|       Williams|      Thailand|   23/03/1996|     London, England|\n|    Yuki Tsunoda|         TSU| 22|     AlphaTauri|         Japan|    11/5/2000|   Sagamihara, Japan|\n| Valtteri Bottas|         BOT| 77|     Alfa Romeo|       Finland|   28/08/1989|    Nastola, Finland|\n| Nico Hulkenberg|         HUL| 27|   Haas F1 Team|       Germany|   19/08/1987|Emmerich am Rhein...|\n|Daniel Ricciardo|         RIC|  3|     AlphaTauri|     Australia|     1/7/1989|    Perth, Australia|\n|     Guanyu Zhou|         ZHO| 24|     Alfa Romeo|         China|   30/05/1999|     Shanghai, China|\n| Kevin Magnussen|         MAG| 20|   Haas F1 Team|       Denmark|    5/10/1992|   Roskilde, Denmark|\n|     Liam Lawson|         LAW| 40|     AlphaTauri|   New Zealand|    11/2/2002|Hastings, New Zea...|\n+----------------+------------+---+---------------+--------------+-------------+--------------------+\nonly showing top 20 rows\n\n"
     ]
    }
   ],
   "source": [
    "df3 = spark.read.csv(\"/FileStore/tables/F1_driver_bio-1.csv\",header=True)\n",
    "df3.show()"
   ]
  },
  {
   "cell_type": "code",
   "execution_count": 0,
   "metadata": {
    "application/vnd.databricks.v1+cell": {
     "cellMetadata": {
      "byteLimit": 2048000,
      "rowLimit": 10000
     },
     "inputWidgets": {},
     "nuid": "7395daf6-93eb-4920-877b-48bcdea36ed1",
     "showTitle": false,
     "title": ""
    }
   },
   "outputs": [
    {
     "output_type": "stream",
     "name": "stdout",
     "output_type": "stream",
     "text": [
      "+----------------+------------+---+---------------+--------------+-------------+--------------------+------------+\n|          Driver|Abbreviation| No|           Team|       Country|Date of Birth|      Place of Birth|     new_col|\n+----------------+------------+---+---------------+--------------+-------------+--------------------+------------+\n|  Max Verstappen|         VER|  1|Red Bull Racing|   Netherlands|   30/09/1997|    Hasselt, Belgium|this is data|\n|    Sergio Perez|         PER| 11|Red Bull Racing|        Mexico|   26/01/1990| Guadalajara, Mexico|this is data|\n|  Lewis Hamilton|         HAM| 44|       Mercedes|United Kingdom|     7/1/1985|  Stevenage, England|this is data|\n| Fernando Alonso|         ALO| 14|   Aston Martin|         Spain|   29/07/1981|       Oviedo, Spain|this is data|\n| Charles Leclerc|         LEC| 16|        Ferrari|        Monaco|   16/10/1997| Monte Carlo, Monaco|this is data|\n|    Lando Norris|         NOR|  4|        McLaren|United Kingdom|   13/11/1999|    Bristol, England|this is data|\n|    Carlos Sainz|         SAI| 55|        Ferrari|         Sapin|     1/9/1994|       Madrid, Spain|this is data|\n|  George Russell|         RUS| 63|       Mercedes|United Kingdom|   15/02/1998|King's Lynn, England|this is data|\n|   Oscar Piastri|         PIA| 81|        McLaren|     Australia|     6/4/2001| Melbourne, Victoria|this is data|\n|    Lance Stroll|         STR| 18|   Aston Martin|        Canada|   29/10/1998|    Montreal, Canada|this is data|\n|    Pierre Gasly|         GAS| 10|         Alpine|        France|     7/2/1996|       Rouen, France|this is data|\n|    Esteban Ocon|         OCO| 31|         Alpine|        France|   17/09/1996|    Evreux, Normandy|this is data|\n| Alexander Albon|         ALB| 23|       Williams|      Thailand|   23/03/1996|     London, England|this is data|\n|    Yuki Tsunoda|         TSU| 22|     AlphaTauri|         Japan|    11/5/2000|   Sagamihara, Japan|this is data|\n| Valtteri Bottas|         BOT| 77|     Alfa Romeo|       Finland|   28/08/1989|    Nastola, Finland|this is data|\n| Nico Hulkenberg|         HUL| 27|   Haas F1 Team|       Germany|   19/08/1987|Emmerich am Rhein...|this is data|\n|Daniel Ricciardo|         RIC|  3|     AlphaTauri|     Australia|     1/7/1989|    Perth, Australia|this is data|\n|     Guanyu Zhou|         ZHO| 24|     Alfa Romeo|         China|   30/05/1999|     Shanghai, China|this is data|\n| Kevin Magnussen|         MAG| 20|   Haas F1 Team|       Denmark|    5/10/1992|   Roskilde, Denmark|this is data|\n|     Liam Lawson|         LAW| 40|     AlphaTauri|   New Zealand|    11/2/2002|Hastings, New Zea...|this is data|\n+----------------+------------+---+---------------+--------------+-------------+--------------------+------------+\nonly showing top 20 rows\n\n"
     ]
    }
   ],
   "source": [
    "new_df = df3.withColumn(\"new_col\", lit(\"this is data\"))\n",
    "new_df.show()"
   ]
  },
  {
   "cell_type": "code",
   "execution_count": 0,
   "metadata": {
    "application/vnd.databricks.v1+cell": {
     "cellMetadata": {
      "byteLimit": 2048000,
      "rowLimit": 10000
     },
     "inputWidgets": {},
     "nuid": "7e78033d-f0fb-4c11-a68e-f596e259bec0",
     "showTitle": false,
     "title": ""
    }
   },
   "outputs": [
    {
     "output_type": "stream",
     "name": "stdout",
     "output_type": "stream",
     "text": [
      "+----------------+------------+---+---------------+--------------+-------------+--------------------+---------+\n|          Driver|Abbreviation| No|           Team|       Country|Date of Birth|      Place of Birth|new_col_2|\n+----------------+------------+---+---------------+--------------+-------------+--------------------+---------+\n|  Max Verstappen|         VER|  1|Red Bull Racing|   Netherlands|   30/09/1997|    Hasselt, Belgium|      2.0|\n|    Sergio Perez|         PER| 11|Red Bull Racing|        Mexico|   26/01/1990| Guadalajara, Mexico|     22.0|\n|  Lewis Hamilton|         HAM| 44|       Mercedes|United Kingdom|     7/1/1985|  Stevenage, England|     88.0|\n| Fernando Alonso|         ALO| 14|   Aston Martin|         Spain|   29/07/1981|       Oviedo, Spain|     28.0|\n| Charles Leclerc|         LEC| 16|        Ferrari|        Monaco|   16/10/1997| Monte Carlo, Monaco|     32.0|\n|    Lando Norris|         NOR|  4|        McLaren|United Kingdom|   13/11/1999|    Bristol, England|      8.0|\n|    Carlos Sainz|         SAI| 55|        Ferrari|         Sapin|     1/9/1994|       Madrid, Spain|    110.0|\n|  George Russell|         RUS| 63|       Mercedes|United Kingdom|   15/02/1998|King's Lynn, England|    126.0|\n|   Oscar Piastri|         PIA| 81|        McLaren|     Australia|     6/4/2001| Melbourne, Victoria|    162.0|\n|    Lance Stroll|         STR| 18|   Aston Martin|        Canada|   29/10/1998|    Montreal, Canada|     36.0|\n|    Pierre Gasly|         GAS| 10|         Alpine|        France|     7/2/1996|       Rouen, France|     20.0|\n|    Esteban Ocon|         OCO| 31|         Alpine|        France|   17/09/1996|    Evreux, Normandy|     62.0|\n| Alexander Albon|         ALB| 23|       Williams|      Thailand|   23/03/1996|     London, England|     46.0|\n|    Yuki Tsunoda|         TSU| 22|     AlphaTauri|         Japan|    11/5/2000|   Sagamihara, Japan|     44.0|\n| Valtteri Bottas|         BOT| 77|     Alfa Romeo|       Finland|   28/08/1989|    Nastola, Finland|    154.0|\n| Nico Hulkenberg|         HUL| 27|   Haas F1 Team|       Germany|   19/08/1987|Emmerich am Rhein...|     54.0|\n|Daniel Ricciardo|         RIC|  3|     AlphaTauri|     Australia|     1/7/1989|    Perth, Australia|      6.0|\n|     Guanyu Zhou|         ZHO| 24|     Alfa Romeo|         China|   30/05/1999|     Shanghai, China|     48.0|\n| Kevin Magnussen|         MAG| 20|   Haas F1 Team|       Denmark|    5/10/1992|   Roskilde, Denmark|     40.0|\n|     Liam Lawson|         LAW| 40|     AlphaTauri|   New Zealand|    11/2/2002|Hastings, New Zea...|     80.0|\n+----------------+------------+---+---------------+--------------+-------------+--------------------+---------+\nonly showing top 20 rows\n\n"
     ]
    }
   ],
   "source": [
    "new_df1 = df3.withColumn(\"new_col_2\", col(\"No\")*2)\n",
    "new_df1.show()"
   ]
  },
  {
   "cell_type": "code",
   "execution_count": 0,
   "metadata": {
    "application/vnd.databricks.v1+cell": {
     "cellMetadata": {
      "byteLimit": 2048000,
      "rowLimit": 10000
     },
     "inputWidgets": {},
     "nuid": "a3920f65-a100-4806-a873-1af92a05748f",
     "showTitle": false,
     "title": ""
    }
   },
   "outputs": [
    {
     "output_type": "stream",
     "name": "stdout",
     "output_type": "stream",
     "text": [
      "+----------------+------------+---+---------------+-------------+\n|          Driver|Abbreviation| No|           Team|Date of Birth|\n+----------------+------------+---+---------------+-------------+\n|  Max Verstappen|         VER|  1|Red Bull Racing|   30/09/1997|\n|    Sergio Perez|         PER| 11|Red Bull Racing|   26/01/1990|\n|  Lewis Hamilton|         HAM| 44|       Mercedes|     7/1/1985|\n| Fernando Alonso|         ALO| 14|   Aston Martin|   29/07/1981|\n| Charles Leclerc|         LEC| 16|        Ferrari|   16/10/1997|\n|    Lando Norris|         NOR|  4|        McLaren|   13/11/1999|\n|    Carlos Sainz|         SAI| 55|        Ferrari|     1/9/1994|\n|  George Russell|         RUS| 63|       Mercedes|   15/02/1998|\n|   Oscar Piastri|         PIA| 81|        McLaren|     6/4/2001|\n|    Lance Stroll|         STR| 18|   Aston Martin|   29/10/1998|\n|    Pierre Gasly|         GAS| 10|         Alpine|     7/2/1996|\n|    Esteban Ocon|         OCO| 31|         Alpine|   17/09/1996|\n| Alexander Albon|         ALB| 23|       Williams|   23/03/1996|\n|    Yuki Tsunoda|         TSU| 22|     AlphaTauri|    11/5/2000|\n| Valtteri Bottas|         BOT| 77|     Alfa Romeo|   28/08/1989|\n| Nico Hulkenberg|         HUL| 27|   Haas F1 Team|   19/08/1987|\n|Daniel Ricciardo|         RIC|  3|     AlphaTauri|     1/7/1989|\n|     Guanyu Zhou|         ZHO| 24|     Alfa Romeo|   30/05/1999|\n| Kevin Magnussen|         MAG| 20|   Haas F1 Team|    5/10/1992|\n|     Liam Lawson|         LAW| 40|     AlphaTauri|    11/2/2002|\n+----------------+------------+---+---------------+-------------+\nonly showing top 20 rows\n\n"
     ]
    }
   ],
   "source": [
    "drop_df = df3.drop(\"Country\").drop(\"Place of Birth\")\n",
    "drop_df.show()"
   ]
  },
  {
   "cell_type": "code",
   "execution_count": 0,
   "metadata": {
    "application/vnd.databricks.v1+cell": {
     "cellMetadata": {
      "byteLimit": 2048000,
      "rowLimit": 10000
     },
     "inputWidgets": {},
     "nuid": "b322d983-410e-4df9-a932-cdb352a11ebb",
     "showTitle": false,
     "title": ""
    }
   },
   "outputs": [
    {
     "output_type": "stream",
     "name": "stdout",
     "output_type": "stream",
     "text": [
      "+----------------+------------+-------------+---------------+--------------+-------------+--------------------+\n|          Driver|Abbreviation|Driver Number|           Team|       Country|Date of Birth|      Place of Birth|\n+----------------+------------+-------------+---------------+--------------+-------------+--------------------+\n|  Max Verstappen|         VER|            1|Red Bull Racing|   Netherlands|   30/09/1997|    Hasselt, Belgium|\n|    Sergio Perez|         PER|           11|Red Bull Racing|        Mexico|   26/01/1990| Guadalajara, Mexico|\n|  Lewis Hamilton|         HAM|           44|       Mercedes|United Kingdom|     7/1/1985|  Stevenage, England|\n| Fernando Alonso|         ALO|           14|   Aston Martin|         Spain|   29/07/1981|       Oviedo, Spain|\n| Charles Leclerc|         LEC|           16|        Ferrari|        Monaco|   16/10/1997| Monte Carlo, Monaco|\n|    Lando Norris|         NOR|            4|        McLaren|United Kingdom|   13/11/1999|    Bristol, England|\n|    Carlos Sainz|         SAI|           55|        Ferrari|         Sapin|     1/9/1994|       Madrid, Spain|\n|  George Russell|         RUS|           63|       Mercedes|United Kingdom|   15/02/1998|King's Lynn, England|\n|   Oscar Piastri|         PIA|           81|        McLaren|     Australia|     6/4/2001| Melbourne, Victoria|\n|    Lance Stroll|         STR|           18|   Aston Martin|        Canada|   29/10/1998|    Montreal, Canada|\n|    Pierre Gasly|         GAS|           10|         Alpine|        France|     7/2/1996|       Rouen, France|\n|    Esteban Ocon|         OCO|           31|         Alpine|        France|   17/09/1996|    Evreux, Normandy|\n| Alexander Albon|         ALB|           23|       Williams|      Thailand|   23/03/1996|     London, England|\n|    Yuki Tsunoda|         TSU|           22|     AlphaTauri|         Japan|    11/5/2000|   Sagamihara, Japan|\n| Valtteri Bottas|         BOT|           77|     Alfa Romeo|       Finland|   28/08/1989|    Nastola, Finland|\n| Nico Hulkenberg|         HUL|           27|   Haas F1 Team|       Germany|   19/08/1987|Emmerich am Rhein...|\n|Daniel Ricciardo|         RIC|            3|     AlphaTauri|     Australia|     1/7/1989|    Perth, Australia|\n|     Guanyu Zhou|         ZHO|           24|     Alfa Romeo|         China|   30/05/1999|     Shanghai, China|\n| Kevin Magnussen|         MAG|           20|   Haas F1 Team|       Denmark|    5/10/1992|   Roskilde, Denmark|\n|     Liam Lawson|         LAW|           40|     AlphaTauri|   New Zealand|    11/2/2002|Hastings, New Zea...|\n+----------------+------------+-------------+---------------+--------------+-------------+--------------------+\nonly showing top 20 rows\n\n"
     ]
    }
   ],
   "source": [
    "renamed_df = df3.withColumnRenamed(\"No\",\"Driver Number\")\n",
    "renamed_df.show()"
   ]
  },
  {
   "cell_type": "code",
   "execution_count": 0,
   "metadata": {
    "application/vnd.databricks.v1+cell": {
     "cellMetadata": {},
     "inputWidgets": {},
     "nuid": "1c641002-452b-48df-8429-7d5354fccfef",
     "showTitle": false,
     "title": ""
    }
   },
   "outputs": [],
   "source": []
  }
 ],
 "metadata": {
  "application/vnd.databricks.v1+notebook": {
   "dashboards": [],
   "language": "python",
   "notebookMetadata": {
    "pythonIndentUnit": 4
   },
   "notebookName": "impMiscOperationsSQL",
   "widgets": {}
  }
 },
 "nbformat": 4,
 "nbformat_minor": 0
}
