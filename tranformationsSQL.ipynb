{
 "cells": [
  {
   "cell_type": "code",
   "execution_count": 0,
   "metadata": {
    "application/vnd.databricks.v1+cell": {
     "cellMetadata": {
      "byteLimit": 2048000,
      "rowLimit": 10000
     },
     "inputWidgets": {},
     "nuid": "3689e96b-e660-4736-b00b-aba559f5c406",
     "showTitle": false,
     "title": ""
    }
   },
   "outputs": [],
   "source": [
    "from pyspark.sql import SparkSession\n",
    "from pyspark.sql.functions import *\n",
    "\n",
    "spark = SparkSession.builder.appName(\"bySQL\").getOrCreate()"
   ]
  },
  {
   "cell_type": "code",
   "execution_count": 0,
   "metadata": {
    "application/vnd.databricks.v1+cell": {
     "cellMetadata": {
      "byteLimit": 2048000,
      "rowLimit": 10000
     },
     "inputWidgets": {},
     "nuid": "ca9a6671-8379-47b8-a493-60b88fb271fe",
     "showTitle": false,
     "title": ""
    }
   },
   "outputs": [],
   "source": [
    "#types of trnasformation:\n",
    "# 1. narrow transformations = sort by, union, filter/where, distinct [not required shuffling data]\n",
    "# 2. wide transformations = group by, joins (left, right, full outer joins, inner joins, cross joins), agg, pivot, sort, repartition. [required shuffling data]"
   ]
  },
  {
   "cell_type": "code",
   "execution_count": 0,
   "metadata": {
    "application/vnd.databricks.v1+cell": {
     "cellMetadata": {
      "byteLimit": 2048000,
      "rowLimit": 10000
     },
     "inputWidgets": {},
     "nuid": "5f64bf88-62ea-429c-b363-11b41ff76b25",
     "showTitle": false,
     "title": ""
    }
   },
   "outputs": [
    {
     "output_type": "stream",
     "name": "stdout",
     "output_type": "stream",
     "text": [
      "+-----------+--------+------+--------------------+------+----+-----+-----+----------------+-------+-----+--------+\n|PassengerId|Survived|Pclass|                Name|   Sex| Age|SibSp|Parch|          Ticket|   Fare|Cabin|Embarked|\n+-----------+--------+------+--------------------+------+----+-----+-----+----------------+-------+-----+--------+\n|          1|       0|     3|Braund, Mr. Owen ...|  male|22.0|    1|    0|       A/5 21171|   7.25| null|       S|\n|          2|       1|     1|Cumings, Mrs. Joh...|female|38.0|    1|    0|        PC 17599|71.2833|  C85|       C|\n|          3|       1|     3|Heikkinen, Miss. ...|female|26.0|    0|    0|STON/O2. 3101282|  7.925| null|       S|\n|          4|       1|     1|Futrelle, Mrs. Ja...|female|35.0|    1|    0|          113803|   53.1| C123|       S|\n|          5|       0|     3|Allen, Mr. Willia...|  male|35.0|    0|    0|          373450|   8.05| null|       S|\n+-----------+--------+------+--------------------+------+----+-----+-----+----------------+-------+-----+--------+\nonly showing top 5 rows\n\n"
     ]
    }
   ],
   "source": [
    "parquet_df = spark.read.parquet(\"/FileStore/tables/Titanic.parquet\")\n",
    "parquet_df.show(5)"
   ]
  },
  {
   "cell_type": "code",
   "execution_count": 0,
   "metadata": {
    "application/vnd.databricks.v1+cell": {
     "cellMetadata": {
      "byteLimit": 2048000,
      "rowLimit": 10000
     },
     "inputWidgets": {},
     "nuid": "fd732f79-de25-46b9-9dbb-b5801c5a4fa6",
     "showTitle": false,
     "title": ""
    }
   },
   "outputs": [],
   "source": [
    "#operations\n",
    "parquet_df.createOrReplaceTempView(\"titanic_table\")"
   ]
  },
  {
   "cell_type": "code",
   "execution_count": 0,
   "metadata": {
    "application/vnd.databricks.v1+cell": {
     "cellMetadata": {
      "byteLimit": 2048000,
      "rowLimit": 10000
     },
     "inputWidgets": {},
     "nuid": "091219db-ddfc-401f-9fc0-2fe182bda688",
     "showTitle": false,
     "title": ""
    }
   },
   "outputs": [
    {
     "output_type": "stream",
     "name": "stdout",
     "output_type": "stream",
     "text": [
      "+-----------+----+--------+--------+\n|PassengerID| Sex|  Ticket|    Fare|\n+-----------+----+--------+--------+\n|         28|male|   19950|   263.0|\n|        119|male|PC 17558|247.5208|\n|        306|male|  113781|  151.55|\n|        333|male|PC 17582|153.4625|\n|        374|male|PC 17760|135.6333|\n+-----------+----+--------+--------+\n\n"
     ]
    }
   ],
   "source": [
    "spark.sql(\"\"\"\n",
    "          select PassengerID, Sex, Ticket, Fare from titanic_table \n",
    "          where Sex = \"male\" and  Fare > 100\n",
    "          limit 5\n",
    "          \"\"\").show()"
   ]
  },
  {
   "cell_type": "code",
   "execution_count": 0,
   "metadata": {
    "application/vnd.databricks.v1+cell": {
     "cellMetadata": {
      "byteLimit": 2048000,
      "rowLimit": 10000
     },
     "inputWidgets": {},
     "nuid": "59222cf5-64ae-4a26-ae1a-4b92c9124341",
     "showTitle": false,
     "title": ""
    }
   },
   "outputs": [],
   "source": [
    "#sql tranformations:\n",
    "#clause: select, where, group by, order by, having\n",
    "#functions: string function, arthematic functions, date functions\n",
    "#aggregate functions: min, max, sum, avg, count\n",
    "#joins: inner join, left, right, full outer joins, cross joins\n",
    "#"
   ]
  },
  {
   "cell_type": "code",
   "execution_count": 0,
   "metadata": {
    "application/vnd.databricks.v1+cell": {
     "cellMetadata": {
      "byteLimit": 2048000,
      "rowLimit": 10000
     },
     "inputWidgets": {},
     "nuid": "4fcee68d-b41a-4671-ba54-43557b0768fa",
     "showTitle": false,
     "title": ""
    }
   },
   "outputs": [
    {
     "output_type": "stream",
     "name": "stdout",
     "output_type": "stream",
     "text": [
      "+------+-------+----------------+\n|   Sex|   Fare|          Ticket|\n+------+-------+----------------+\n|  male|   7.25|       A/5 21171|\n|female|71.2833|        PC 17599|\n|female|  7.925|STON/O2. 3101282|\n|female|   53.1|          113803|\n|  male|   8.05|          373450|\n+------+-------+----------------+\nonly showing top 5 rows\n\n+------+-------+----------------+\n|   Sex|   Fare|          Ticket|\n+------+-------+----------------+\n|  male|   7.25|       A/5 21171|\n|female|71.2833|        PC 17599|\n|female|  7.925|STON/O2. 3101282|\n|female|   53.1|          113803|\n|  male|   8.05|          373450|\n+------+-------+----------------+\nonly showing top 5 rows\n\n"
     ]
    }
   ],
   "source": [
    "# using sql\n",
    "parquet_df.createOrReplaceTempView(\"titanic_table\")\n",
    "spark.sql(\"select Sex, Fare, Ticket from titanic_table\").show(5)\n",
    "#using dataframe\n",
    "parquet_df.select(\"Sex\", \"Fare\", \"Ticket\").show(5)"
   ]
  },
  {
   "cell_type": "code",
   "execution_count": 0,
   "metadata": {
    "application/vnd.databricks.v1+cell": {
     "cellMetadata": {
      "byteLimit": 2048000,
      "rowLimit": 10000
     },
     "inputWidgets": {},
     "nuid": "017a52fc-1364-4179-a57f-a79687212074",
     "showTitle": false,
     "title": ""
    }
   },
   "outputs": [
    {
     "output_type": "stream",
     "name": "stdout",
     "output_type": "stream",
     "text": [
      "+-----------+--------+------+--------------------+------+----+-----+-----+--------+--------+-----------+--------+\n|PassengerId|Survived|Pclass|                Name|   Sex| Age|SibSp|Parch|  Ticket|    Fare|      Cabin|Embarked|\n+-----------+--------+------+--------------------+------+----+-----+-----+--------+--------+-----------+--------+\n|         28|       0|     1|Fortune, Mr. Char...|  male|19.0|    3|    2|   19950|   263.0|C23 C25 C27|       S|\n|         89|       1|     1|Fortune, Miss. Ma...|female|23.0|    3|    2|   19950|   263.0|C23 C25 C27|       S|\n|        119|       0|     1|Baxter, Mr. Quigg...|  male|24.0|    0|    1|PC 17558|247.5208|    B58 B60|       C|\n|        259|       1|     1|    Ward, Miss. Anna|female|35.0|    0|    0|PC 17755|512.3292|       null|       C|\n|        300|       1|     1|Baxter, Mrs. Jame...|female|50.0|    0|    1|PC 17558|247.5208|    B58 B60|       C|\n+-----------+--------+------+--------------------+------+----+-----+-----+--------+--------+-----------+--------+\nonly showing top 5 rows\n\n+-----------+--------+------+--------------------+------+----+-----+-----+--------+--------+-----------+--------+\n|PassengerId|Survived|Pclass|                Name|   Sex| Age|SibSp|Parch|  Ticket|    Fare|      Cabin|Embarked|\n+-----------+--------+------+--------------------+------+----+-----+-----+--------+--------+-----------+--------+\n|         28|       0|     1|Fortune, Mr. Char...|  male|19.0|    3|    2|   19950|   263.0|C23 C25 C27|       S|\n|         89|       1|     1|Fortune, Miss. Ma...|female|23.0|    3|    2|   19950|   263.0|C23 C25 C27|       S|\n|        119|       0|     1|Baxter, Mr. Quigg...|  male|24.0|    0|    1|PC 17558|247.5208|    B58 B60|       C|\n|        259|       1|     1|    Ward, Miss. Anna|female|35.0|    0|    0|PC 17755|512.3292|       null|       C|\n|        300|       1|     1|Baxter, Mrs. Jame...|female|50.0|    0|    1|PC 17558|247.5208|    B58 B60|       C|\n+-----------+--------+------+--------------------+------+----+-----+-----+--------+--------+-----------+--------+\nonly showing top 5 rows\n\n"
     ]
    }
   ],
   "source": [
    "# using sql\n",
    "parquet_df.createOrReplaceTempView(\"titanic_table\")\n",
    "spark.sql(\"select * from titanic_table where Fare > 200\").show(5)\n",
    "#using dataframe\n",
    "parquet_df.where(\"Fare > 200\") .show(5)"
   ]
  },
  {
   "cell_type": "code",
   "execution_count": 0,
   "metadata": {
    "application/vnd.databricks.v1+cell": {
     "cellMetadata": {
      "byteLimit": 2048000,
      "rowLimit": 10000
     },
     "inputWidgets": {},
     "nuid": "d2b4af79-b125-4e60-b810-b50e365517e8",
     "showTitle": false,
     "title": ""
    }
   },
   "outputs": [
    {
     "output_type": "stream",
     "name": "stdout",
     "output_type": "stream",
     "text": [
      "+------+--------+\n|   Sex|count(1)|\n+------+--------+\n|female|     314|\n|  male|     577|\n+------+--------+\n\n+------+-----+\n|   Sex|count|\n+------+-----+\n|female|  314|\n|  male|  577|\n+------+-----+\n\n"
     ]
    }
   ],
   "source": [
    "# using sql\n",
    "parquet_df.createOrReplaceTempView(\"titanic_table\")\n",
    "spark.sql(\"select Sex, count(*) from titanic_table group by Sex\").show(5)\n",
    "#using dataframe\n",
    "parquet_df.groupBy(\"Sex\").count().show(5)"
   ]
  },
  {
   "cell_type": "code",
   "execution_count": 0,
   "metadata": {
    "application/vnd.databricks.v1+cell": {
     "cellMetadata": {
      "byteLimit": 2048000,
      "rowLimit": 10000
     },
     "inputWidgets": {},
     "nuid": "67eb14d2-84d5-4254-ad35-a046e3231f91",
     "showTitle": false,
     "title": ""
    }
   },
   "outputs": [
    {
     "output_type": "stream",
     "name": "stdout",
     "output_type": "stream",
     "text": [
      "+--------------------+\n|                Name|\n+--------------------+\n| Abbing, Mr. Anthony|\n|Abbott, Mr. Rossm...|\n|Abbott, Mrs. Stan...|\n| Abelson, Mr. Samuel|\n|Abelson, Mrs. Sam...|\n+--------------------+\nonly showing top 5 rows\n\n+--------------------+\n|                Name|\n+--------------------+\n| Abbing, Mr. Anthony|\n|Abbott, Mr. Rossm...|\n|Abbott, Mrs. Stan...|\n| Abelson, Mr. Samuel|\n|Abelson, Mrs. Sam...|\n+--------------------+\nonly showing top 5 rows\n\n"
     ]
    }
   ],
   "source": [
    "# using sql\n",
    "parquet_df.createOrReplaceTempView(\"titanic_table\")\n",
    "spark.sql(\"select Name from titanic_table order by Name\").show(5)\n",
    "#using dataframe\n",
    "parquet_df.select(\"Name\").orderBy(\"Name\").show(5)"
   ]
  },
  {
   "cell_type": "code",
   "execution_count": 0,
   "metadata": {
    "application/vnd.databricks.v1+cell": {
     "cellMetadata": {
      "byteLimit": 2048000,
      "rowLimit": 10000
     },
     "inputWidgets": {},
     "nuid": "25a1576e-e199-422a-8038-feb8484cd690",
     "showTitle": false,
     "title": ""
    }
   },
   "outputs": [
    {
     "output_type": "stream",
     "name": "stdout",
     "output_type": "stream",
     "text": [
      "+--------------------+\n|                Name|\n+--------------------+\n|van Melkebeke, Mr...|\n|van Billiard, Mr....|\n|del Carlo, Mr. Se...|\n|de Pelsmaeker, Mr...|\n|de Mulder, Mr. Th...|\n+--------------------+\nonly showing top 5 rows\n\n+--------------------+\n|                Name|\n+--------------------+\n|van Melkebeke, Mr...|\n|van Billiard, Mr....|\n|del Carlo, Mr. Se...|\n|de Pelsmaeker, Mr...|\n|de Mulder, Mr. Th...|\n+--------------------+\nonly showing top 5 rows\n\n"
     ]
    }
   ],
   "source": [
    "# using sql\n",
    "parquet_df.createOrReplaceTempView(\"titanic_table\")\n",
    "spark.sql(\"select Name from titanic_table order by Name desc\").show(5)\n",
    "#using dataframe\n",
    "parquet_df.select(\"Name\").orderBy(col(\"Name\").desc()).show(5)"
   ]
  },
  {
   "cell_type": "code",
   "execution_count": 0,
   "metadata": {
    "application/vnd.databricks.v1+cell": {
     "cellMetadata": {
      "byteLimit": 2048000,
      "rowLimit": 10000
     },
     "inputWidgets": {},
     "nuid": "48b57e27-ba4e-424a-9d17-74412bdf5295",
     "showTitle": false,
     "title": ""
    }
   },
   "outputs": [
    {
     "output_type": "stream",
     "name": "stdout",
     "output_type": "stream",
     "text": [
      "+----+--------+\n| Sex|count(1)|\n+----+--------+\n|male|     577|\n+----+--------+\n\n+----+-----+\n| Sex|count|\n+----+-----+\n|male|  577|\n+----+-----+\n\n"
     ]
    }
   ],
   "source": [
    "# using sql\n",
    "parquet_df.createOrReplaceTempView(\"titanic_table\")\n",
    "spark.sql(\"select Sex, count(*) from titanic_table group by Sex having Sex = 'male'\").show(5)\n",
    "#using dataframe\n",
    "parquet_df.groupBy(\"Sex\").count().where(\"Sex = 'male'\").show(5)"
   ]
  },
  {
   "cell_type": "code",
   "execution_count": 0,
   "metadata": {
    "application/vnd.databricks.v1+cell": {
     "cellMetadata": {},
     "inputWidgets": {},
     "nuid": "97e052b9-3379-47d4-a91e-7d13c8d5b7fe",
     "showTitle": false,
     "title": ""
    }
   },
   "outputs": [],
   "source": []
  }
 ],
 "metadata": {
  "application/vnd.databricks.v1+notebook": {
   "dashboards": [],
   "language": "python",
   "notebookMetadata": {
    "pythonIndentUnit": 4
   },
   "notebookName": "tranformationsSQL",
   "widgets": {}
  }
 },
 "nbformat": 4,
 "nbformat_minor": 0
}
