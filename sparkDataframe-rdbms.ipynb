{
 "cells": [
  {
   "cell_type": "code",
   "execution_count": 0,
   "metadata": {
    "application/vnd.databricks.v1+cell": {
     "cellMetadata": {
      "byteLimit": 2048000,
      "rowLimit": 10000
     },
     "inputWidgets": {},
     "nuid": "44f2bff1-8150-4cc6-9c17-e307ccde9c4e",
     "showTitle": false,
     "title": ""
    }
   },
   "outputs": [],
   "source": [
    "from pyspark.sql import SparkSession\n",
    "from pyspark.sql.types import *\n",
    "\n",
    "spark = SparkSession.builder.appName(\"sparktest7\").getOrCreate()"
   ]
  },
  {
   "cell_type": "code",
   "execution_count": 0,
   "metadata": {
    "application/vnd.databricks.v1+cell": {
     "cellMetadata": {},
     "inputWidgets": {},
     "nuid": "3527df14-41f0-4c73-a05b-77c01f41d479",
     "showTitle": false,
     "title": ""
    }
   },
   "outputs": [],
   "source": [
    "#things needed:\n",
    "#jdbc_url = \"jdbc:mysql://localhost:22/retail_db\"\n",
    "# credentials = {\"username\":\"root\"\n",
    "#                \"password\":\"cloudera\"\n",
    "#                \"driver\":\"com.mysql.jdbc.Driver\"}\n",
    "df = spark.read.jdbc(url = jdbc_url, properties= credentials, table=emp)"
   ]
  }
 ],
 "metadata": {
  "application/vnd.databricks.v1+notebook": {
   "dashboards": [],
   "language": "python",
   "notebookMetadata": {
    "pythonIndentUnit": 4
   },
   "notebookName": "sparkDataframe-rdbms",
   "widgets": {}
  }
 },
 "nbformat": 4,
 "nbformat_minor": 0
}
