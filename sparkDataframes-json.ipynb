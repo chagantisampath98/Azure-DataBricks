{
 "cells": [
  {
   "cell_type": "code",
   "execution_count": 0,
   "metadata": {
    "application/vnd.databricks.v1+cell": {
     "cellMetadata": {
      "byteLimit": 2048000,
      "rowLimit": 10000
     },
     "inputWidgets": {},
     "nuid": "c2f4e3a9-f483-4f5b-927e-7a2e6009e0b3",
     "showTitle": false,
     "title": ""
    }
   },
   "outputs": [],
   "source": [
    "from pyspark.sql import SparkSession\n",
    "from pyspark.sql.types import *\n",
    "\n",
    "spark = SparkSession.builder.appName(\"sparktest6\").getOrCreate()"
   ]
  },
  {
   "cell_type": "code",
   "execution_count": 0,
   "metadata": {
    "application/vnd.databricks.v1+cell": {
     "cellMetadata": {
      "byteLimit": 2048000,
      "rowLimit": 10000
     },
     "inputWidgets": {},
     "nuid": "538a2978-c9d1-48dc-9dde-ad074e3de055",
     "showTitle": false,
     "title": ""
    }
   },
   "outputs": [
    {
     "output_type": "stream",
     "name": "stdout",
     "output_type": "stream",
     "text": [
      "+--------------------+----------------+----------------+-----------------+-------+\n|                 bio|              id|        language|             name|version|\n+--------------------+----------------+----------------+-----------------+-------+\n|Donec lobortis el...|V59OF92YF627HFY0|          Sindhi|    Adeel Solangi|    6.1|\n|Aliquam sollicitu...|ENTOCR13RSCLZ6KU|          Sindhi|    Afzal Ghaffar|   1.88|\n|Vestibulum pharet...|IAKPO3R4761JDRVG|          Sindhi|    Aamir Solangi|   7.27|\n|Donec lobortis el...|5ZVOEPMJUI4MB4EN|          Uyghur|    Abla Dilmurat|   2.53|\n|Vivamus id faucib...|6VTI8X6LL0MMPJCC|          Uyghur|         Adil Eli|   6.49|\n|Duis commodo orci...|F2KEU5L7EHYSYFTT|          Uyghur|      Adile Qadir|    1.9|\n|Vivamus id faucib...|LO6DVTZLRK68528I|          Uyghur|Abdukerim Ibrahim|    5.9|\n|Etiam malesuada b...|LJRIULRNJFCNZJAJ|          Sindhi|        Adil Abro|   9.32|\n|Fusce eu ultrices...|JMCL0CXNXHPL1GBC|        Galician| Afonso Vilarchán|   5.21|\n|Nam laoreet, nunc...|KU4T500C830697CW|         Maltese|    Mark Schembri|   3.17|\n|Pellentesque mass...|XOF91ZR7MHV1TXRS|        Galician|    Antía Sixirei|   6.44|\n|Duis commodo orci...|FTSNV411G5MKLPDT|          Uyghur|   Aygul Mutellip|    9.1|\n|Nunc aliquet soda...|OJMWMEEQWMLDU29P|          Sindhi|     Awais Shaikh|   1.59|\n|Vestibulum ante i...|5G646V7E6TJW8X2M|          Sindhi|    Ambreen Ahmed|   2.35|\n|Nullam ac sodales...|Z53AJY7WUYPLAWC9|        Galician|      Celtia Anes|   8.34|\n|Phasellus tincidu...|N1AS6UFULO6WGTLB|         Maltese|    George Mifsud|   7.47|\n|Curabitur ultrici...|70RODUVRD95CLOJL|          Uyghur|     Aytürk Qasim|   1.32|\n|Maecenas non arcu...|VBLI24FKF7VV6BWE|Sesotho sa Leboa|       Dialè Meso|   6.29|\n|Integer vehicula,...|4VRLON0GPEZYFCVL|        Galician|    Breixo Galáns|   1.62|\n|Ut viverra quis e...|5DRDI1QLRGLP29RC|        Galician|     Bieito Lorme|   4.45|\n+--------------------+----------------+----------------+-----------------+-------+\nonly showing top 20 rows\n\n"
     ]
    }
   ],
   "source": [
    "#Json for multi lines\n",
    "rdd = spark.read.option(\"multiLine\",True).json(\"/FileStore/tables/samplejson.json\")\n",
    "rdd.show()"
   ]
  },
  {
   "cell_type": "code",
   "execution_count": 0,
   "metadata": {
    "application/vnd.databricks.v1+cell": {
     "cellMetadata": {
      "byteLimit": 2048000,
      "rowLimit": 10000
     },
     "inputWidgets": {},
     "nuid": "ec8df915-d382-4759-9e17-38b1fdff7b48",
     "showTitle": false,
     "title": ""
    }
   },
   "outputs": [
    {
     "output_type": "stream",
     "name": "stdout",
     "output_type": "stream",
     "text": [
      "root\n |-- bio: string (nullable = true)\n |-- id: string (nullable = true)\n |-- language: string (nullable = true)\n |-- name: string (nullable = true)\n |-- version: double (nullable = true)\n\n"
     ]
    }
   ],
   "source": [
    "rdd.printSchema()"
   ]
  },
  {
   "cell_type": "code",
   "execution_count": 0,
   "metadata": {
    "application/vnd.databricks.v1+cell": {
     "cellMetadata": {},
     "inputWidgets": {},
     "nuid": "95058015-87d0-4f2e-a5b9-d082c3bbcb49",
     "showTitle": false,
     "title": ""
    }
   },
   "outputs": [],
   "source": [
    "# to read child columns in json file in single line\n",
    "new_json = rdd.select(\"first_name\", \"last_name\", \"address.*\")\n",
    "new_json.show()"
   ]
  },
  {
   "cell_type": "code",
   "execution_count": 0,
   "metadata": {
    "application/vnd.databricks.v1+cell": {
     "cellMetadata": {},
     "inputWidgets": {},
     "nuid": "8bbf3cde-f7c5-4738-8614-85c1edc9480d",
     "showTitle": false,
     "title": ""
    }
   },
   "outputs": [],
   "source": [
    "# to read child columns in json file\n",
    "new_json2 = rdd.select(\"first_name\", \"last_name\", \"address.city\",\"address.state\")\n",
    "new_json2.show()"
   ]
  },
  {
   "cell_type": "code",
   "execution_count": 0,
   "metadata": {
    "application/vnd.databricks.v1+cell": {
     "cellMetadata": {},
     "inputWidgets": {},
     "nuid": "b045527b-ddcb-4a4c-b326-b646c583403d",
     "showTitle": false,
     "title": ""
    }
   },
   "outputs": [],
   "source": [
    "\n",
    "\n",
    "\n"
   ]
  }
 ],
 "metadata": {
  "application/vnd.databricks.v1+notebook": {
   "dashboards": [],
   "language": "python",
   "notebookMetadata": {
    "pythonIndentUnit": 4
   },
   "notebookName": "sparkDataframes-json",
   "widgets": {}
  }
 },
 "nbformat": 4,
 "nbformat_minor": 0
}
