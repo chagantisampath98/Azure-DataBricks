{
 "cells": [
  {
   "cell_type": "code",
   "execution_count": 0,
   "metadata": {
    "application/vnd.databricks.v1+cell": {
     "cellMetadata": {
      "byteLimit": 2048000,
      "rowLimit": 10000
     },
     "inputWidgets": {},
     "nuid": "4fa34232-dcb8-49a6-8876-868d82e0f569",
     "showTitle": false,
     "title": ""
    }
   },
   "outputs": [],
   "source": [
    "from pyspark.sql import SparkSession\n",
    "from pyspark.sql.types import *\n",
    "\n",
    "spark = SparkSession.builder.appName(\"sparktest4\").getOrCreate()"
   ]
  },
  {
   "cell_type": "code",
   "execution_count": 0,
   "metadata": {
    "application/vnd.databricks.v1+cell": {
     "cellMetadata": {
      "byteLimit": 2048000,
      "rowLimit": 10000
     },
     "inputWidgets": {},
     "nuid": "8e6e1dc3-7c68-4be4-81af-25dc9d06b6bd",
     "showTitle": false,
     "title": ""
    }
   },
   "outputs": [
    {
     "output_type": "stream",
     "name": "stdout",
     "output_type": "stream",
     "text": [
      "+---+-------+---+\n| Id|   Name|Age|\n+---+-------+---+\n|  1|  Alice| 25|\n|  2|    Bob| 27|\n|  3|Charlie| 45|\n+---+-------+---+\n\nNone\n"
     ]
    }
   ],
   "source": [
    "rdd = spark.sparkContext.parallelize([(1, 'Alice',25), (2, 'Bob', 27), (3, 'Charlie', 45)])\n",
    "df = rdd.toDF([\"Id\",\"Name\",\"Age\"])\n",
    "print(df.show())"
   ]
  },
  {
   "cell_type": "code",
   "execution_count": 0,
   "metadata": {
    "application/vnd.databricks.v1+cell": {
     "cellMetadata": {
      "byteLimit": 2048000,
      "rowLimit": 10000
     },
     "inputWidgets": {},
     "nuid": "66d506d3-39a7-49c9-9e9a-3ea8f7413d33",
     "showTitle": false,
     "title": ""
    }
   },
   "outputs": [
    {
     "output_type": "stream",
     "name": "stdout",
     "output_type": "stream",
     "text": [
      "+-------+--------+---+---------------+--------------------+-------------+----+------+------------+---------------+----------------+\n|  Track|Position| No|         Driver|                Team|Starting Grid|Laps|Points|Time/Retired|Set Fastest Lap|Fastest Lap Time|\n+-------+--------+---+---------------+--------------------+-------------+----+------+------------+---------------+----------------+\n|Bahrain|       1|  1| Max Verstappen|Red Bull Racing H...|            1|  57|  null|          25|             No|        1:36.236|\n|Bahrain|       2| 11|   Sergio Perez|Red Bull Racing H...|            2|  57|  null|          18|             No|        1:36.344|\n|Bahrain|       3| 14|Fernando Alonso|Aston Martin Aram...|            5|  57|  null|          15|             No|        1:36.156|\n|Bahrain|       4| 55|   Carlos Sainz|             Ferrari|            4|  57|  null|          12|             No|        1:37.130|\n|Bahrain|       5| 44| Lewis Hamilton|            Mercedes|            7|  57|  null|          10|             No|        1:36.546|\n|Bahrain|       6| 18|   Lance Stroll|Aston Martin Aram...|            8|  57|  null|           8|             No|        1:36.546|\n|Bahrain|       7| 63| George Russell|            Mercedes|            6|  57|  null|           6|             No|        1:37.221|\n|Bahrain|       8| 77|Valtteri Bottas|  Alfa Romeo Ferrari|           12|  57|  null|           4|             No|        1:37.379|\n|Bahrain|       9| 10|   Pierre Gasly|      Alpine Renault|           20|  57|  null|           2|             No|        1:35.068|\n|Bahrain|      10| 23|Alexander Albon|   Williams Mercedes|           15|  57|  null|           1|             No|        1:37.144|\n|Bahrain|      11| 22|   Yuki Tsunoda|AlphaTauri Honda ...|           14|  57|  null|           0|             No|        1:36.637|\n|Bahrain|      12|  2| Logan Sargeant|   Williams Mercedes|           16|  56|  null|           0|             No|        1:36.037|\n|Bahrain|      13| 20|Kevin Magnussen|        Haas Ferrari|           17|  56|  null|           0|             No|        1:36.471|\n|Bahrain|      14| 21|  Nyck De Vries|AlphaTauri Honda ...|           19|  56|  null|           0|             No|        1:37.709|\n|Bahrain|      15| 27|Nico Hulkenberg|        Haas Ferrari|           10|  56|  null|           0|             No|        1:36.616|\n|Bahrain|      16| 24|    Guanyu Zhou|  Alfa Romeo Ferrari|           13|  56|  null|           0|            Yes|        1:33.996|\n|Bahrain|      17|  4|   Lando Norris|    McLaren Mercedes|           11|  55|  null|           0|             No|        1:35.822|\n|Bahrain|    null| 31|   Esteban Ocon|      Alpine Renault|            9|  41|  null|           0|             No|        1:36.797|\n|Bahrain|    null| 16|Charles Leclerc|             Ferrari|            3|  39|  null|           0|             No|        1:37.170|\n|Bahrain|    null| 81|  Oscar Piastri|    McLaren Mercedes|           18|  13|  null|           0|             No|        1:40.691|\n+-------+--------+---+---------------+--------------------+-------------+----+------+------------+---------------+----------------+\nonly showing top 20 rows\n\n"
     ]
    }
   ],
   "source": [
    "#default delimiter is ,\n",
    "my_custom_schema = StructType([\n",
    "    StructField(\"Track\", StringType(), True),\n",
    "    StructField(\"Position\", IntegerType(), True),\n",
    "    StructField(\"No\", IntegerType(), True),\n",
    "    StructField(\"Driver\", StringType(), True),\n",
    "    StructField(\"Team\", StringType(), True),\n",
    "    StructField(\"Starting Grid\", IntegerType(), True),\n",
    "    StructField(\"Laps\", IntegerType(), True),\n",
    "    StructField(\"Points\", IntegerType(), True),\n",
    "    StructField(\"Time/Retired\", StringType(), True),\n",
    "    StructField(\"Set Fastest Lap\", StringType(), True),\n",
    "    StructField(\"Fastest Lap Time\", StringType(), True)\n",
    "])\n",
    "\n",
    "f1_df = spark.read\\\n",
    "    .option(\"delimiter\",\",\")\\\n",
    "    .option(\"inferSchema\",True)\\\n",
    "    .schema(my_custom_schema)\\\n",
    "    .csv(\"/FileStore/tables/Formula1_2023season_raceResults.csv\", header=True)\n",
    "\n",
    "\n",
    "f1_df.show()"
   ]
  },
  {
   "cell_type": "code",
   "execution_count": 0,
   "metadata": {
    "application/vnd.databricks.v1+cell": {
     "cellMetadata": {
      "byteLimit": 2048000,
      "rowLimit": 10000
     },
     "inputWidgets": {},
     "nuid": "d525f032-f2a0-4d6c-94ef-3078d8e88d5f",
     "showTitle": false,
     "title": ""
    }
   },
   "outputs": [
    {
     "output_type": "stream",
     "name": "stdout",
     "output_type": "stream",
     "text": [
      "root\n |-- Track: string (nullable = true)\n |-- Position: integer (nullable = true)\n |-- No: integer (nullable = true)\n |-- Driver: string (nullable = true)\n |-- Team: string (nullable = true)\n |-- Starting Grid: integer (nullable = true)\n |-- Laps: integer (nullable = true)\n |-- Points: integer (nullable = true)\n |-- Time/Retired: string (nullable = true)\n |-- Set Fastest Lap: string (nullable = true)\n |-- Fastest Lap Time: string (nullable = true)\n\nNone\n"
     ]
    }
   ],
   "source": [
    "print(f1_df.printSchema())"
   ]
  },
  {
   "cell_type": "code",
   "execution_count": 0,
   "metadata": {
    "application/vnd.databricks.v1+cell": {
     "cellMetadata": {},
     "inputWidgets": {},
     "nuid": "0a1bccfc-91d5-494e-8ddc-1961775b1cdd",
     "showTitle": false,
     "title": ""
    }
   },
   "outputs": [],
   "source": []
  }
 ],
 "metadata": {
  "application/vnd.databricks.v1+notebook": {
   "dashboards": [],
   "language": "python",
   "notebookMetadata": {
    "pythonIndentUnit": 4
   },
   "notebookName": "sparkDataframes-csv",
   "widgets": {}
  }
 },
 "nbformat": 4,
 "nbformat_minor": 0
}
