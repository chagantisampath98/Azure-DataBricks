{
 "cells": [
  {
   "cell_type": "code",
   "execution_count": 0,
   "metadata": {
    "application/vnd.databricks.v1+cell": {
     "cellMetadata": {
      "byteLimit": 2048000,
      "rowLimit": 10000
     },
     "inputWidgets": {},
     "nuid": "923f427c-b90b-435b-9188-0e41a12314c8",
     "showTitle": false,
     "title": ""
    }
   },
   "outputs": [],
   "source": [
    "from pyspark.sql import SparkSession\n",
    "from pyspark.streaming import StreamingContext\n",
    "import random\n",
    "import string"
   ]
  },
  {
   "cell_type": "code",
   "execution_count": 0,
   "metadata": {
    "application/vnd.databricks.v1+cell": {
     "cellMetadata": {
      "byteLimit": 2048000,
      "rowLimit": 10000
     },
     "inputWidgets": {},
     "nuid": "582e6c23-f2f2-4e9b-bd64-9e5744d31e73",
     "showTitle": false,
     "title": ""
    }
   },
   "outputs": [],
   "source": [
    "spark = SparkSession.builder.appName(\"SocketStreaming\").getOrCreate()\n",
    "ssc = StreamingContext(spark.sparkContext, 2)"
   ]
  },
  {
   "cell_type": "code",
   "execution_count": 0,
   "metadata": {
    "application/vnd.databricks.v1+cell": {
     "cellMetadata": {
      "byteLimit": 2048000,
      "rowLimit": 10000
     },
     "inputWidgets": {},
     "nuid": "11850d15-990b-4276-844b-f0d04336e7f0",
     "showTitle": false,
     "title": ""
    }
   },
   "outputs": [],
   "source": [
    "rddQueue = []\n",
    "\n",
    "for i in range(3):\n",
    "    data = [\"first\", \"second\", \"third\" \"fourth\"]\n",
    "    data = list(map(lambda x: x + random.choice(string.ascii_letters + string.digits + string.punctuation), data))\n",
    "    rddQueue += [spark.sparkContext.parallelize(data)]\n"
   ]
  },
  {
   "cell_type": "code",
   "execution_count": 0,
   "metadata": {
    "application/vnd.databricks.v1+cell": {
     "cellMetadata": {
      "byteLimit": 2048000,
      "rowLimit": 10000
     },
     "inputWidgets": {},
     "nuid": "148c51bc-b23a-45c7-bcb0-924d1eff03a5",
     "showTitle": false,
     "title": ""
    }
   },
   "outputs": [],
   "source": [
    "dstream = ssc.queueStream(rddQueue)"
   ]
  },
  {
   "cell_type": "code",
   "execution_count": 0,
   "metadata": {
    "application/vnd.databricks.v1+cell": {
     "cellMetadata": {
      "byteLimit": 2048000,
      "rowLimit": 10000
     },
     "inputWidgets": {},
     "nuid": "b60d26ee-2c1a-4910-8f4a-0bdc57514e39",
     "showTitle": false,
     "title": ""
    }
   },
   "outputs": [],
   "source": [
    "#words = dstream.flatMap(lambda lines: lines.split(\" \"))\n",
    "#word_count = words.map(lambda words: (words,1)).reduceByKey(lambda x,y: x+y)\n",
    "#word_count.pprint()\n",
    "\n",
    "length = dstream.flatMap(lambda lines: lines.split(\" \")).map(lambda word: (word,len(word)))\n",
    "length.pprint()"
   ]
  },
  {
   "cell_type": "code",
   "execution_count": 0,
   "metadata": {
    "application/vnd.databricks.v1+cell": {
     "cellMetadata": {
      "byteLimit": 2048000,
      "rowLimit": 10000
     },
     "inputWidgets": {},
     "nuid": "ac00156a-46cc-44c6-bca5-9db34b92f479",
     "showTitle": false,
     "title": ""
    }
   },
   "outputs": [
    {
     "output_type": "stream",
     "name": "stdout",
     "output_type": "stream",
     "text": [
      "-------------------------------------------\nTime: 2024-01-27 17:59:58\n-------------------------------------------\n('firstK', 6)\n('second)', 7)\n('thirdfourthT', 12)\n\n-------------------------------------------\nTime: 2024-01-27 18:00:00\n-------------------------------------------\n('firstX', 6)\n('second2', 7)\n('thirdfourthZ', 12)\n\n-------------------------------------------\nTime: 2024-01-27 18:00:02\n-------------------------------------------\n('first>', 6)\n('secondW', 7)\n('thirdfourthd', 12)\n\n-------------------------------------------\nTime: 2024-01-27 18:00:04\n-------------------------------------------\n\n-------------------------------------------\nTime: 2024-01-27 18:00:06\n-------------------------------------------\n\n-------------------------------------------\nTime: 2024-01-27 18:00:08\n-------------------------------------------\n\n-------------------------------------------\nTime: 2024-01-27 18:00:10\n-------------------------------------------\n\n"
     ]
    },
    {
     "output_type": "display_data",
     "data": {
      "text/html": [
       "<style scoped>\n",
       "  .ansiout {\n",
       "    display: block;\n",
       "    unicode-bidi: embed;\n",
       "    white-space: pre-wrap;\n",
       "    word-wrap: break-word;\n",
       "    word-break: break-all;\n",
       "    font-family: \"Menlo\", \"Monaco\", \"Consolas\", \"Ubuntu Mono\", \"Source Code Pro\", monospace;\n",
       "    font-size: 13px;\n",
       "    color: #555;\n",
       "    margin-left: 4px;\n",
       "    line-height: 19px;\n",
       "  }\n",
       "</style>"
      ]
     },
     "metadata": {
      "application/vnd.databricks.v1+output": {
       "arguments": {},
       "data": "",
       "errorSummary": "Cancelled",
       "errorTraceType": "html",
       "metadata": {},
       "type": "ipynbError"
      }
     },
     "output_type": "display_data"
    }
   ],
   "source": [
    "ssc.start()\n",
    "ssc.awaitTermination()\n",
    "ssc.stop()"
   ]
  },
  {
   "cell_type": "code",
   "execution_count": 0,
   "metadata": {
    "application/vnd.databricks.v1+cell": {
     "cellMetadata": {
      "byteLimit": 2048000,
      "rowLimit": 10000
     },
     "inputWidgets": {},
     "nuid": "c0642e52-273b-4c0a-a122-51bab554d50a",
     "showTitle": false,
     "title": ""
    }
   },
   "outputs": [],
   "source": []
  }
 ],
 "metadata": {
  "application/vnd.databricks.v1+notebook": {
   "dashboards": [],
   "language": "python",
   "notebookMetadata": {
    "pythonIndentUnit": 4
   },
   "notebookName": "streamSample",
   "widgets": {}
  }
 },
 "nbformat": 4,
 "nbformat_minor": 0
}
