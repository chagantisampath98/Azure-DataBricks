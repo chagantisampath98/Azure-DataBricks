{
 "cells": [
  {
   "cell_type": "code",
   "execution_count": 0,
   "metadata": {
    "application/vnd.databricks.v1+cell": {
     "cellMetadata": {
      "byteLimit": 2048000,
      "rowLimit": 10000
     },
     "inputWidgets": {},
     "nuid": "4f5c0428-796b-43ff-a7b1-99458664a6d1",
     "showTitle": false,
     "title": ""
    }
   },
   "outputs": [],
   "source": [
    "from pyspark.sql import SparkSession\n",
    "from pyspark.sql.types import *\n",
    "\n",
    "spark = SparkSession.builder.appName(\"sparktest4\").enableHiveSupport().getOrCreate()"
   ]
  },
  {
   "cell_type": "code",
   "execution_count": 0,
   "metadata": {
    "application/vnd.databricks.v1+cell": {
     "cellMetadata": {},
     "inputWidgets": {},
     "nuid": "09c1cb03-8668-4d78-b50b-2e276e947f2c",
     "showTitle": false,
     "title": ""
    }
   },
   "outputs": [],
   "source": [
    "#first way to connect\n",
    "hive_df = spark.read.table(\"select * from db_name.table_name\").where(\"id = 1\")\n",
    "hive_df.show()"
   ]
  },
  {
   "cell_type": "code",
   "execution_count": 0,
   "metadata": {
    "application/vnd.databricks.v1+cell": {
     "cellMetadata": {},
     "inputWidgets": {},
     "nuid": "b0174906-668e-4693-9be7-16ddf9ee4742",
     "showTitle": false,
     "title": ""
    }
   },
   "outputs": [],
   "source": [
    "#second way\n",
    "#scenario:\n",
    "#db_name = first_db\n",
    "#Tbale_name = emp\n",
    "#Stored as parquet\n",
    "#Type: Internal Tbale_name\n",
    "#storage: HDFS\n",
    "#storage_path = \"/user/hive/warehouse/first_db/emp/files.parquet\"\n",
    "\n",
    "hive_df1 = spark.read.parquet(\"/user/hive/warehouse/first_db/emp/\")\n",
    "hive_df1.show()"
   ]
  },
  {
   "cell_type": "code",
   "execution_count": 0,
   "metadata": {
    "application/vnd.databricks.v1+cell": {
     "cellMetadata": {},
     "inputWidgets": {},
     "nuid": "f4a87b7a-d8be-405b-8c24-7040b57deb36",
     "showTitle": false,
     "title": ""
    }
   },
   "outputs": [],
   "source": []
  },
  {
   "cell_type": "code",
   "execution_count": 0,
   "metadata": {
    "application/vnd.databricks.v1+cell": {
     "cellMetadata": {},
     "inputWidgets": {},
     "nuid": "70bb2444-65dc-4357-871e-01b815946654",
     "showTitle": false,
     "title": ""
    }
   },
   "outputs": [],
   "source": []
  },
  {
   "cell_type": "code",
   "execution_count": 0,
   "metadata": {
    "application/vnd.databricks.v1+cell": {
     "cellMetadata": {},
     "inputWidgets": {},
     "nuid": "446340d5-a0c1-4c85-91ce-1c3b0d136f2a",
     "showTitle": false,
     "title": ""
    }
   },
   "outputs": [],
   "source": []
  }
 ],
 "metadata": {
  "application/vnd.databricks.v1+notebook": {
   "dashboards": [],
   "language": "python",
   "notebookMetadata": {
    "pythonIndentUnit": 4
   },
   "notebookName": "sparkDataframes-hive",
   "widgets": {}
  }
 },
 "nbformat": 4,
 "nbformat_minor": 0
}
