{
 "cells": [
  {
   "cell_type": "code",
   "execution_count": 0,
   "metadata": {
    "application/vnd.databricks.v1+cell": {
     "cellMetadata": {
      "byteLimit": 2048000,
      "rowLimit": 10000
     },
     "inputWidgets": {},
     "nuid": "4d60e743-f984-4d95-a21a-d40001f41bbb",
     "showTitle": false,
     "title": ""
    }
   },
   "outputs": [],
   "source": [
    "from pyspark.sql import SparkSession\n",
    "from pyspark.sql.types import *\n",
    "\n",
    "spark = SparkSession.builder.appName(\"sparktest6\").getOrCreate()"
   ]
  },
  {
   "cell_type": "code",
   "execution_count": 0,
   "metadata": {
    "application/vnd.databricks.v1+cell": {
     "cellMetadata": {
      "byteLimit": 2048000,
      "rowLimit": 10000
     },
     "inputWidgets": {},
     "nuid": "4c55e575-52b4-4069-9914-2483b9827785",
     "showTitle": false,
     "title": ""
    }
   },
   "outputs": [
    {
     "output_type": "stream",
     "name": "stdout",
     "output_type": "stream",
     "text": [
      "+--------+-----+------+-----+-------------------+------+-------+----------------+-------+--------------------+--------------------+--------------------+\n|boolean1|byte1|short1| int1|              long1|float1|double1|          bytes1|string1|              middle|                list|                 map|\n+--------+-----+------+-----+-------------------+------+-------+----------------+-------+--------------------+--------------------+--------------------+\n|   false|    1|  1024|65536|9223372036854775807|   1.0|  -15.0|[00 01 02 03 04]|     hi|{[{1, bye}, {2, s...|[{3, good}, {4, b...|                  {}|\n|    true|  100|  2048|65536|9223372036854775807|   2.0|   -5.0|              []|    bye|{[{1, bye}, {2, s...|[{100000000, cat}...|{chani -> {5, cha...|\n+--------+-----+------+-----+-------------------+------+-------+----------------+-------+--------------------+--------------------+--------------------+\n\n"
     ]
    }
   ],
   "source": [
    "rdd = spark.read.orc(\"/FileStore/tables/TestOrcFile_test1.orc\")\n",
    "rdd.show()"
   ]
  },
  {
   "cell_type": "code",
   "execution_count": 0,
   "metadata": {
    "application/vnd.databricks.v1+cell": {
     "cellMetadata": {
      "byteLimit": 2048000,
      "rowLimit": 10000
     },
     "inputWidgets": {},
     "nuid": "49b30369-0d38-4b87-89cc-6e91c2657bd1",
     "showTitle": false,
     "title": ""
    }
   },
   "outputs": [
    {
     "output_type": "stream",
     "name": "stdout",
     "output_type": "stream",
     "text": [
      "root\n |-- boolean1: boolean (nullable = true)\n |-- byte1: byte (nullable = true)\n |-- short1: short (nullable = true)\n |-- int1: integer (nullable = true)\n |-- long1: long (nullable = true)\n |-- float1: float (nullable = true)\n |-- double1: double (nullable = true)\n |-- bytes1: binary (nullable = true)\n |-- string1: string (nullable = true)\n |-- middle: struct (nullable = true)\n |    |-- list: array (nullable = true)\n |    |    |-- element: struct (containsNull = true)\n |    |    |    |-- int1: integer (nullable = true)\n |    |    |    |-- string1: string (nullable = true)\n |-- list: array (nullable = true)\n |    |-- element: struct (containsNull = true)\n |    |    |-- int1: integer (nullable = true)\n |    |    |-- string1: string (nullable = true)\n |-- map: map (nullable = true)\n |    |-- key: string\n |    |-- value: struct (valueContainsNull = true)\n |    |    |-- int1: integer (nullable = true)\n |    |    |-- string1: string (nullable = true)\n\n"
     ]
    }
   ],
   "source": [
    "rdd.printSchema()"
   ]
  },
  {
   "cell_type": "code",
   "execution_count": 0,
   "metadata": {
    "application/vnd.databricks.v1+cell": {
     "cellMetadata": {},
     "inputWidgets": {},
     "nuid": "ecb2ee07-b8d9-424f-b8c3-a5e023b01e53",
     "showTitle": false,
     "title": ""
    }
   },
   "outputs": [],
   "source": []
  }
 ],
 "metadata": {
  "application/vnd.databricks.v1+notebook": {
   "dashboards": [],
   "language": "python",
   "notebookMetadata": {
    "pythonIndentUnit": 4
   },
   "notebookName": "sparkDataframes-orc",
   "widgets": {}
  }
 },
 "nbformat": 4,
 "nbformat_minor": 0
}
